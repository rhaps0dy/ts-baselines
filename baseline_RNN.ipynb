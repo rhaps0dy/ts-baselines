{
 "cells": [
  {
   "cell_type": "code",
   "execution_count": 1,
   "metadata": {
    "collapsed": false
   },
   "outputs": [
    {
     "name": "stderr",
     "output_type": "stream",
     "text": [
      "Using TensorFlow backend.\n"
     ]
    }
   ],
   "source": [
    "from keras.models import Sequential\n",
    "import numpy as np"
   ]
  },
  {
   "cell_type": "code",
   "execution_count": 2,
   "metadata": {
    "collapsed": true
   },
   "outputs": [],
   "source": [
    "import scipy.io as sio\n",
    "import numpy.matlib"
   ]
  },
  {
   "cell_type": "code",
   "execution_count": 3,
   "metadata": {
    "collapsed": true
   },
   "outputs": [],
   "source": [
    "data = sio.loadmat(\"preprocessed_ICU2.mat\")"
   ]
  },
  {
   "cell_type": "code",
   "execution_count": 4,
   "metadata": {
    "collapsed": false
   },
   "outputs": [],
   "source": [
    "N = data['Patient_No']\n",
    "x0_train = data['x0_train']\n",
    "x1_train = data['x1_train']\n",
    "x0_test = data['x0_test']\n",
    "x1_test = data['x1_test']\n",
    "max_length = data['max_length'][0][0]\n",
    "max_length_test = data['max_length_test'][0][0]\n",
    "dim = data['dim'][0][0]\n",
    "\n",
    "# x_test_fix = data['x_test2']\n",
    "# y_test_fix = data['y_test2']\n",
    "# y_test_fix2 = np.matlib.repmat(y_test_fix,1,max_length)\n",
    "# y_test_fix2 = y_test_fix2.reshape((-1, max_length,1))\n",
    "\n",
    "x_train = np.concatenate((x0_train, x1_train), axis=0)\n",
    "x_test = np.concatenate((x0_test, x1_test), axis=0)\n",
    "y_train = np.concatenate((np.zeros(x0_train.shape[0]),np.ones(x1_train.shape[0])),axis=0)\n",
    "y_test = np.concatenate((np.zeros(x0_test.shape[0]),np.ones(x1_test.shape[0])),axis=0)\n",
    "y_test2 = np.matlib.repmat(y_test,max_length_test,1)\n",
    "y_test2 = y_test2.reshape((-1, max_length_test,1))"
   ]
  },
  {
   "cell_type": "code",
   "execution_count": 5,
   "metadata": {
    "collapsed": false
   },
   "outputs": [],
   "source": [
    "from keras.layers import GRU, Dense, Input, Masking\n",
    "from keras.models import Model"
   ]
  },
  {
   "cell_type": "code",
   "execution_count": 65,
   "metadata": {
    "collapsed": false
   },
   "outputs": [],
   "source": [
    "model = Sequential()\n",
    "hidden_units1 = 50\n",
    "model.add(Masking(mask_value=0., input_shape=(max_length, dim)))\n",
    "model.add(GRU(hidden_units1, recurrent_dropout=0.5))\n",
    "model.add(Dense(1, activation='sigmoid'))"
   ]
  },
  {
   "cell_type": "code",
   "execution_count": 80,
   "metadata": {
    "collapsed": false
   },
   "outputs": [],
   "source": [
    "c_weight = {0 : 1., 1: 5}"
   ]
  },
  {
   "cell_type": "code",
   "execution_count": 67,
   "metadata": {
    "collapsed": true
   },
   "outputs": [],
   "source": [
    "model.compile(optimizer='rmsprop',\n",
    "              loss='binary_crossentropy',\n",
    "              metrics=['accuracy'])"
   ]
  },
  {
   "cell_type": "code",
   "execution_count": 91,
   "metadata": {
    "collapsed": false
   },
   "outputs": [
    {
     "name": "stdout",
     "output_type": "stream",
     "text": [
      "Epoch 1/10\n",
      "4874/4874 [==============================] - 24s - loss: 0.2948 - acc: 0.9454    \n",
      "Epoch 2/10\n",
      "4874/4874 [==============================] - 31s - loss: 0.3085 - acc: 0.9304    \n",
      "Epoch 3/10\n",
      "4874/4874 [==============================] - 25s - loss: 0.2874 - acc: 0.9446    \n",
      "Epoch 4/10\n",
      "4874/4874 [==============================] - 25s - loss: 0.3145 - acc: 0.9446    \n",
      "Epoch 5/10\n",
      "4874/4874 [==============================] - 25s - loss: 0.3082 - acc: 0.9436    \n",
      "Epoch 6/10\n",
      "4874/4874 [==============================] - 24s - loss: 0.2991 - acc: 0.9454    \n",
      "Epoch 7/10\n",
      "4874/4874 [==============================] - 24s - loss: 0.3011 - acc: 0.9413    \n",
      "Epoch 8/10\n",
      "4874/4874 [==============================] - 23s - loss: 0.2989 - acc: 0.9475    \n",
      "Epoch 9/10\n",
      "4874/4874 [==============================] - 25s - loss: 0.3106 - acc: 0.9413    \n",
      "Epoch 10/10\n",
      "4874/4874 [==============================] - 25s - loss: 0.2973 - acc: 0.9460    \n"
     ]
    },
    {
     "data": {
      "text/plain": [
       "<keras.callbacks.History at 0x1cf0bac18>"
      ]
     },
     "execution_count": 91,
     "metadata": {},
     "output_type": "execute_result"
    }
   ],
   "source": [
    "model.fit(x_train, y_train, epochs=10, batch_size=64, class_weight=c_weight)"
   ]
  },
  {
   "cell_type": "code",
   "execution_count": 9,
   "metadata": {
    "collapsed": false
   },
   "outputs": [],
   "source": [
    "# for i in range(len(weights)):\n",
    "#         print(weights[i].shape)"
   ]
  },
  {
   "cell_type": "code",
   "execution_count": 10,
   "metadata": {
    "collapsed": false
   },
   "outputs": [],
   "source": [
    "# model.summary()"
   ]
  },
  {
   "cell_type": "code",
   "execution_count": 69,
   "metadata": {
    "collapsed": false
   },
   "outputs": [],
   "source": [
    "inputs = Input(shape=(max_length_test, dim))\n",
    "l0 = Masking(mask_value=0., input_shape=(max_length_test, dim))\n",
    "l1 = GRU(hidden_units1, return_sequences=True)\n",
    "l2 = Dense(1, activation='sigmoid')\n",
    "x0 = l0(inputs)\n",
    "x1 = l1(x0)\n",
    "x2 = l2(x1)"
   ]
  },
  {
   "cell_type": "code",
   "execution_count": 70,
   "metadata": {
    "collapsed": false
   },
   "outputs": [],
   "source": [
    "model2 = Model(inputs=inputs, outputs=x2)"
   ]
  },
  {
   "cell_type": "code",
   "execution_count": 92,
   "metadata": {
    "collapsed": false
   },
   "outputs": [],
   "source": [
    "model2.compile(optimizer='rmsprop',\n",
    "              loss='binary_crossentropy',\n",
    "              metrics=['accuracy'])\n",
    "l1.set_weights(model.layers[1].get_weights())\n",
    "l2.set_weights(model.layers[2].get_weights())"
   ]
  },
  {
   "cell_type": "code",
   "execution_count": null,
   "metadata": {
    "collapsed": false
   },
   "outputs": [],
   "source": []
  },
  {
   "cell_type": "code",
   "execution_count": 93,
   "metadata": {
    "collapsed": false
   },
   "outputs": [
    {
     "name": "stdout",
     "output_type": "stream",
     "text": [
      "1220/1220 [==============================] - 17s    \n"
     ]
    },
    {
     "data": {
      "text/plain": [
       "[0.59057874992245529, 0.73419277003554051]"
      ]
     },
     "execution_count": 93,
     "metadata": {},
     "output_type": "execute_result"
    }
   ],
   "source": [
    "model2.evaluate(x_test,y_test2,batch_size=64)"
   ]
  },
  {
   "cell_type": "code",
   "execution_count": 84,
   "metadata": {
    "collapsed": false
   },
   "outputs": [
    {
     "data": {
      "text/plain": [
       "(1220, 941, 88)"
      ]
     },
     "execution_count": 84,
     "metadata": {},
     "output_type": "execute_result"
    }
   ],
   "source": [
    "x_test.shape"
   ]
  },
  {
   "cell_type": "code",
   "execution_count": 94,
   "metadata": {
    "collapsed": false
   },
   "outputs": [],
   "source": [
    "risk = model2.predict(x_test, batch_size=64)"
   ]
  },
  {
   "cell_type": "code",
   "execution_count": 95,
   "metadata": {
    "collapsed": false
   },
   "outputs": [],
   "source": [
    "sio.savemat('risk_scores.mat', {'risk':risk, 'y_test':y_test})\n",
    "# sio.savemat('risk_scores.mat', {'risk':risk, 'y_test':y_test, 'i0_train':i0_train, 'i1_train':i0_train,'i0_test':i0_train,'i1_test':i0_train,})"
   ]
  },
  {
   "cell_type": "code",
   "execution_count": 18,
   "metadata": {
    "collapsed": false
   },
   "outputs": [],
   "source": [
    "from keras.utils import plot_model \n",
    "import pydot"
   ]
  },
  {
   "cell_type": "code",
   "execution_count": 19,
   "metadata": {
    "collapsed": false
   },
   "outputs": [],
   "source": [
    "plot_model(model2)"
   ]
  },
  {
   "cell_type": "code",
   "execution_count": null,
   "metadata": {
    "collapsed": false
   },
   "outputs": [],
   "source": []
  },
  {
   "cell_type": "code",
   "execution_count": null,
   "metadata": {
    "collapsed": true
   },
   "outputs": [],
   "source": []
  },
  {
   "cell_type": "code",
   "execution_count": null,
   "metadata": {
    "collapsed": true
   },
   "outputs": [],
   "source": []
  }
 ],
 "metadata": {
  "anaconda-cloud": {},
  "kernelspec": {
   "display_name": "Python [conda root]",
   "language": "python",
   "name": "conda-root-py"
  },
  "language_info": {
   "codemirror_mode": {
    "name": "ipython",
    "version": 3
   },
   "file_extension": ".py",
   "mimetype": "text/x-python",
   "name": "python",
   "nbconvert_exporter": "python",
   "pygments_lexer": "ipython3",
   "version": "3.5.2"
  }
 },
 "nbformat": 4,
 "nbformat_minor": 1
}
