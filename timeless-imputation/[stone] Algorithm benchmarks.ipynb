{
 "cells": [
  {
   "cell_type": "code",
   "execution_count": 22,
   "metadata": {},
   "outputs": [
    {
     "data": {
      "text/plain": [
       "<module 'gmm_impute' from '/mnt/disk1/MIMIC/ts-baselines/timeless-imputation/gmm_impute.py'>"
      ]
     },
     "execution_count": 22,
     "metadata": {},
     "output_type": "execute_result"
    }
   ],
   "source": [
    "import datasets\n",
    "import utils\n",
    "import gmm_impute\n",
    "import gmm_dae\n",
    "import pickle_utils as pu\n",
    "import numpy as np\n",
    "import pandas as pd\n",
    "import itertools as it\n",
    "import missing_bayesian_mixture as mbm\n",
    "import os\n",
    "import denoising_ae\n",
    "import category_dae\n",
    "import tensorflow as tf\n",
    "import missForest\n",
    "import missForest_GP\n",
    "\n",
    "from sklearn.mixture import BayesianGaussianMixture\n",
    "\n",
    "import imp\n",
    "imp.reload(utils)\n",
    "imp.reload(datasets)\n",
    "imp.reload(mbm)\n",
    "imp.reload(category_dae)\n",
    "imp.reload(missForest)\n",
    "imp.reload(missForest_GP)\n",
    "imp.reload(denoising_ae)\n",
    "imp.reload(gmm_impute)"
   ]
  },
  {
   "cell_type": "code",
   "execution_count": 11,
   "metadata": {
    "collapsed": true
   },
   "outputs": [],
   "source": [
    "from IPython.display import HTML\n",
    "def df_view(df):\n",
    "    css = \"\"\"<style>\n",
    "    table { border-collapse: collapse; border: 3px solid #eee; }\n",
    "    table tr th:first-child { background-color: #eeeeee; color: #333; font-weight: bold }\n",
    "    table thead th { background-color: #eee; color: #000; }\n",
    "    tr, th, td { border: 1px solid #ccc; border-width: 1px 0 0 1px; border-collapse: collapse;\n",
    "    padding: 3px; font-family: monospace; font-size: 10px }</style>\n",
    "    \"\"\"\n",
    "    s  = '<script type=\"text/Javascript\">'\n",
    "    s += 'var win = window.open(\"\", \"Title\", \"toolbar=no, location=no, directories=no, status=no, menubar=no, scrollbars=yes, resizable=yes, width=780, height=200, top=\"+(screen.height-400)+\", left=\"+(screen.width-840));'\n",
    "    s += 'win.document.body.innerHTML = \\'' + (df.to_html() + css).replace(\"\\n\",'\\\\') + '\\';'\n",
    "    s += '</script>'\n",
    "    return(HTML(s+css))"
   ]
  },
  {
   "cell_type": "code",
   "execution_count": 17,
   "metadata": {},
   "outputs": [
    {
     "name": "stdout",
     "output_type": "stream",
     "text": [
      "+++ Importing Soybean\n",
      "+++ Importing BreastCancer\n",
      "+++ Importing LetterRecognition\n",
      "+++ Importing Shuttle\n",
      "+++ Importing Servo\n",
      "+++ Importing Ionosphere\n",
      "V2 ; must have more than 1 possible value\n",
      "+++ Importing BostonHousing\n"
     ]
    }
   ],
   "source": [
    "dsets = datasets.datasets()"
   ]
  },
  {
   "cell_type": "code",
   "execution_count": 18,
   "metadata": {
    "collapsed": true
   },
   "outputs": [],
   "source": [
    "tests_to_perform = []\n",
    "for b in dsets.items():\n",
    "    def do_mcar_rows(dataset_, proportion):\n",
    "        return utils.mcar_rows(dataset_, proportion**.5, proportion**.5)\n",
    "    def do_mar_rows(dataset_, proportion):\n",
    "        return utils.mar_rows(dataset_, proportion**.5, proportion**.5,\n",
    "                              deciding_missing_proportion=0.2)\n",
    "    def do_mnar_rows(dataset_, proportion):\n",
    "        return utils.mnar_rows(dataset_, proportion**.5, proportion**.5,\n",
    "                            missing_proportion_nonrandom=0.0)\n",
    "\n",
    "    for c in [(datasets.memoize(utils.mcar_total), 'MCAR_total'),\n",
    "              (datasets.memoize(do_mcar_rows), 'MCAR_rows'),\n",
    "              (datasets.memoize(do_mnar_rows), 'MNAR_rows'),\n",
    "              (datasets.memoize(do_mar_rows), 'MAR_rows')]:\n",
    "        for d in [.1, .3, .5, .7, .9]:\n",
    "            for e in ['mean_std']:\n",
    "                tests_to_perform.append((b, c, d, e))\n",
    "del b, c, d, e"
   ]
  },
  {
   "cell_type": "code",
   "execution_count": null,
   "metadata": {},
   "outputs": [],
   "source": [
    "_ds = dict((x, dsets[x]) for x in [\"BostonHousing\", \"Servo\", \"Ionosphere\"\n",
    "    # \"Soybean\", \"BreastCancer\"\n",
    "])\n",
    "baseline = datasets.benchmark([#'MICE': datasets.memoize(utils.impute_mice),\n",
    "        ('mean', missForest.impute),\n",
    "        ('GMM', lambda log, d, full_data: missForest.impute(\n",
    "            log, d, full_data, max_iterations=0,\n",
    "            initial_impute=mbm.mf_initial_impute)),\n",
    "        ('Missforest_mult', datasets.memoize(utils.impute_missforest)),\n",
    "        ('MICE', datasets.memoize(utils.impute_mice)),\n",
    "        ('GP_mog_prior', lambda log_path, d, full_data: missForest.impute(\n",
    "                log_path, d, full_data)),\n",
    "        ('GP_KNN_prior', lambda log_path, d, full_data: missForest.impute(\n",
    "                log_path, d, full_data)),\n",
    "        ('GP_mog', lambda log_path, d, full_data: missForest.impute(\n",
    "            log_path, d, full_data, sequential=False, print_progress=True,\n",
    "            predictors=(missForest_GP.UncertainGPClassification,\n",
    "                        missForest_GP.UncertainGPRegression),\n",
    "            optimize_gp=False, use_previous_prediction=False,\n",
    "            ARD=False, impute_name_replace=('GP', 'GMM'), max_iterations=1)),\n",
    "        ('GP_KNN', lambda log_path, d, full_data: missForest.impute(\n",
    "            log_path, d, full_data, sequential=False, print_progress=True,\n",
    "            predictors=(missForest_GP.KNNGPClassification,\n",
    "                        missForest_GP.KNNGPRegression),\n",
    "            optimize_gp=True, use_previous_prediction=False,\n",
    "            ARD=True, n_neighbours=5, knn_type='kernel_avg', max_iterations=1)),\n",
    "        #('GP_KNN_noopt', lambda log_path, d, full_data: missForest.impute(\n",
    "        #    log_path, d, full_data, sequential=False, print_progress=True,\n",
    "        #    predictors=(missForest_GP.KNNGPClassification,\n",
    "        #                missForest_GP.KNNGPRegression),\n",
    "        #    optimize_gp=False, use_previous_prediction=False,\n",
    "        #    ARD=True, n_neighbours=5, knn_type='kernel_avg', max_iterations=1)),\n",
    "\n",
    "], _ds, tests_to_perform, do_not_compute=True)"
   ]
  },
  {
   "cell_type": "code",
   "execution_count": null,
   "metadata": {},
   "outputs": [],
   "source": [
    "baseline.loc[\"mean_std\", :].drop([\"LetterRecognition\", \"Shuttle\", \"Soybean\", \"BreastCancer\", \"Servo\"], axis=0)# .drop([(\"NRMSE\", \"MF_py\"), (\"PFC\", \"MF_py\"), (\"RMSE\", \"MF_py\")], axis=1)  # "
   ]
  },
  {
   "cell_type": "code",
   "execution_count": 170,
   "metadata": {
    "collapsed": true
   },
   "outputs": [],
   "source": [
    "imp.reload(mbm)\n",
    "bayesgmm = datasets.benchmark({'BGMM_50': (lambda p, d, full_data: mbm.impute_bayes_gmm(\n",
    "    p, d, full_data=full_data, number_imputations=100, n_components=50))\n",
    "                              }, dsets, do_not_compute=True)"
   ]
  },
  {
   "cell_type": "code",
   "execution_count": 295,
   "metadata": {
    "collapsed": true
   },
   "outputs": [],
   "source": [
    "results = pd.concat([baseline, bayesgmm, nnresults], axis=1).loc['mean_std']\n",
    "results = results.drop([('total_cats', 'MissForest'), ('total_cats', 'MLP_2x256_SGD')], axis=1)\n",
    "results.sort_index(level=[0,1], inplace=True, axis=1)\n",
    "results"
   ]
  },
  {
   "cell_type": "code",
   "execution_count": 319,
   "metadata": {
    "collapsed": true
   },
   "outputs": [],
   "source": [
    "# Export the results to LaTeX\n",
    "\n",
    "s = ((\"\"\"\\\\documentclass[12pt,a3paper,landscape,oneside]{article}\n",
    "\\\\usepackage[utf8]{inputenc}\n",
    "\\\\usepackage[english]{babel}\n",
    "\\\\usepackage{setspace}\n",
    "\\\\usepackage{parskip}\n",
    "\\\\usepackage{color}\n",
    "\\\\usepackage{amssymb,amsmath,amsfonts}\n",
    "\\\\usepackage{graphicx}\n",
    "\\\\usepackage{hyperref}\n",
    "\\\\hypersetup{colorlinks,breaklinks,urlcolor=blue,linkcolor=blue} % Set link colors throughout the document\n",
    "\\\\usepackage[left=2cm,right=2cm,top=2cm,bottom=2cm]{geometry}\n",
    "\\\\usepackage{enumitem}   \n",
    "\\\\usepackage{import}\n",
    "\\\\usepackage{multicol}\n",
    "\n",
    "\\\\usepackage{csquotes}\n",
    "\\\\begin{document}\\n\"\"\" + results.to_latex() + \"\\n\\\\end{document}\")\n",
    "     .replace(\"\\\\toprule\", \"\\\\hline\")\n",
    "     .replace(\"\\\\bottomrule\", \"\\\\hline\")\n",
    "     .replace(\"\\\\midrule\", \"\\\\hline\"))\n",
    "\n",
    "with open(\"measurements.tex\", \"w\") as f:\n",
    "    f.write(s)\n"
   ]
  },
  {
   "cell_type": "code",
   "execution_count": null,
   "metadata": {
    "collapsed": true
   },
   "outputs": [],
   "source": [
    "from rpy2.robjects.packages import importr\n",
    "import rpy2.robjects\n",
    "import rpy2.robjects.pandas2ri\n",
    "import rpy2.robjects.numpy2ri\n",
    "import rpy2.rinterface\n",
    "import numpy as np\n",
    "import pickle_utils as pu\n",
    "import pandas as pd\n",
    "import collections\n",
    "import utils\n",
    "import os\n",
    "import collections\n",
    "import unittest\n",
    "\n",
    "rpy2.robjects.pandas2ri.activate()\n",
    "rpy2.robjects.numpy2ri.activate()\n",
    "py2ri = rpy2.robjects.pandas2ri.py2ri\n",
    "ri2py = rpy2.robjects.pandas2ri.ri2py\n",
    "R = rpy2.robjects.r\n",
    "\n",
    "base = importr(\"base\")\n",
    "R_utils = importr(\"utils\")\n",
    "mlbench = importr(\"mlbench\")\n",
    "randomForest = importr(\"randomForest\")"
   ]
  },
  {
   "cell_type": "code",
   "execution_count": 77,
   "metadata": {},
   "outputs": [
    {
     "name": "stdout",
     "output_type": "stream",
     "text": [
      "+++ Importing Ionosphere\n",
      "V2 ; must have more than 1 possible value\n",
      "+++ Importing Soybean\n",
      "+++ Importing BreastCancer\n",
      "+++ Importing Servo\n",
      "+++ Importing BostonHousing\n"
     ]
    },
    {
     "ename": "AssertionError",
     "evalue": "All dataframes must have the same columns",
     "output_type": "error",
     "traceback": [
      "\u001b[0;31m---------------------------------------------------------------------------\u001b[0m",
      "\u001b[0;31mAssertionError\u001b[0m                            Traceback (most recent call last)",
      "\u001b[0;32m<ipython-input-77-5838d873ae92>\u001b[0m in \u001b[0;36m<module>\u001b[0;34m()\u001b[0m\n\u001b[1;32m     16\u001b[0m                     \u001b[0mimputed_data\u001b[0m \u001b[0;34m=\u001b[0m \u001b[0mpu\u001b[0m\u001b[0;34m.\u001b[0m\u001b[0mload\u001b[0m\u001b[0;34m(\u001b[0m\u001b[0mimputed_path\u001b[0m\u001b[0;34m)\u001b[0m\u001b[0;34m\u001b[0m\u001b[0m\n\u001b[1;32m     17\u001b[0m                     (_ad, _fd, _id), moments = utils.normalise_dataframes(\n\u001b[0;32m---> 18\u001b[0;31m                         amputed_data, full_data, imputed_data, method=norm_type)\n\u001b[0m\u001b[1;32m     19\u001b[0m \u001b[0m_ad\u001b[0m\u001b[0;34m\u001b[0m\u001b[0m\n",
      "\u001b[0;32m~/MIMIC/ts-baselines/timeless-imputation/utils.py\u001b[0m in \u001b[0;36mnormalise_dataframes\u001b[0;34m(method, *dataframes)\u001b[0m\n\u001b[1;32m    165\u001b[0m     \u001b[0mdf\u001b[0m \u001b[0;34m=\u001b[0m \u001b[0mdataframes\u001b[0m\u001b[0;34m[\u001b[0m\u001b[0;36m0\u001b[0m\u001b[0;34m]\u001b[0m\u001b[0;34m\u001b[0m\u001b[0m\n\u001b[1;32m    166\u001b[0m     assert all(sorted(df.keys()) == sorted(a.keys())\n\u001b[0;32m--> 167\u001b[0;31m                for a in dataframes), \"All dataframes must have the same columns\"\n\u001b[0m\u001b[1;32m    168\u001b[0m     numerical_columns = list(filter(lambda k: df[k].dtype == np.float64,\n\u001b[1;32m    169\u001b[0m                                     df.keys()))\n",
      "\u001b[0;31mAssertionError\u001b[0m: All dataframes must have the same columns"
     ]
    }
   ],
   "source": [
    "dsets_label = datasets.datasets(exclude_labels=False)\n",
    "path = \"impute_benchmark\"\n",
    "for algo_name in [\"BayesGMM\", \"MICE\", \"MissForest\"]:\n",
    "    for data_name, (full_data, cat_keys) in dsets_label.items():\n",
    "        if data_name == 'BostonHousing':\n",
    "            continue\n",
    "\n",
    "        for ampute_fun_name in ['MCAR_total', 'MCAR_rows']:\n",
    "            for proportion in [.1, .3, .5, .7, .9]:\n",
    "                for norm_type in ['mean_std']:  # 'min_max']:\n",
    "                    amputed_name = '{:s}_{:s}_{:.1f}'.format(\n",
    "                        data_name, ampute_fun_name, proportion) \n",
    "                    imputed_path = os.path.join(\n",
    "                        path, 'imputed_{:s}_{:s}.pkl.gz'.format(\n",
    "                            algo_name, amputed_name))\n",
    "                    if not os.path.exists(imputed_path):\n",
    "                        continue\n",
    "                    amputed_data = pu.load(os.path.join(path, 'amputed_'+amputed_name+'.pkl.gz'))\n",
    "                    imputed_data = pu.load(imputed_path)\n",
    "                    (_ad, _id), moments = utils.normalise_dataframes(\n",
    "                        amputed_data, imputed_data, method=norm_type)\n",
    "                    \n",
    "                    to_learn = pd.concat([_id, full_data[[\"Class\"]]], axis=1)\n",
    "                    test_mask = np.random.rand(len(to_learn)) < 0.2\n",
    "                    training_set = to_learn[~test_mask]\n",
    "                    test_set = to_learn[test_mask]\n",
    "                    \n",
    "                    \n"
   ]
  }
 ],
 "metadata": {
  "kernelspec": {
   "display_name": "Python 3",
   "language": "python",
   "name": "python3"
  },
  "language_info": {
   "codemirror_mode": {
    "name": "ipython",
    "version": 3
   },
   "file_extension": ".py",
   "mimetype": "text/x-python",
   "name": "python",
   "nbconvert_exporter": "python",
   "pygments_lexer": "ipython3",
   "version": "3.5.2"
  }
 },
 "nbformat": 4,
 "nbformat_minor": 2
}
