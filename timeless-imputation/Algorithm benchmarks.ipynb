{
 "cells": [
  {
   "cell_type": "code",
   "execution_count": 11,
   "metadata": {},
   "outputs": [
    {
     "data": {
      "text/plain": [
       "<module 'gmm_dae' from '/home/adria/MIMIC/ts-baselines/timeless-imputation/gmm_dae.py'>"
      ]
     },
     "execution_count": 11,
     "metadata": {},
     "output_type": "execute_result"
    }
   ],
   "source": [
    "import datasets\n",
    "import utils\n",
    "import gmm_impute\n",
    "import gmm_dae\n",
    "import pickle_utils as pu\n",
    "import numpy as np\n",
    "import pandas as pd\n",
    "from sklearn.mixture import BayesianGaussianMixture\n",
    "\n",
    "import imp\n",
    "imp.reload(utils)\n",
    "imp.reload(datasets)\n",
    "imp.reload(gmm_impute)\n",
    "imp.reload(gmm_dae)"
   ]
  },
  {
   "cell_type": "code",
   "execution_count": 9,
   "metadata": {},
   "outputs": [
    {
     "name": "stderr",
     "output_type": "stream",
     "text": [
      "/home/adria/MIMIC/ts-baselines/timeless-imputation/utils.py:26: RuntimeWarning: invalid value encountered in subtract\n",
      "  sq_diff = (original_df-multiple_imputed_df)**2\n"
     ]
    }
   ],
   "source": [
    "dsets = datasets.datasets()\n",
    "baseline = datasets.benchmark({'MICE': datasets.memoize(utils.impute_mice),\n",
    "                               'MissForest': datasets.memoize(utils.impute_missforest)}, dsets)"
   ]
  },
  {
   "cell_type": "code",
   "execution_count": 5,
   "metadata": {
    "collapsed": true
   },
   "outputs": [],
   "source": [
    "BGMMs = {}\n",
    "for name, df in dsets.items():\n",
    "    m = BayesianGaussianMixture(n_components=100, covariance_type='full', max_iter=10000)\n",
    "    m.fit(df.values)\n",
    "    BGMMs[len(df)] = gmm_impute.prune_infinite_gmm(df.values, m)"
   ]
  },
  {
   "cell_type": "code",
   "execution_count": 6,
   "metadata": {},
   "outputs": [
    {
     "name": "stdout",
     "output_type": "stream",
     "text": [
      "mask: [False  True  True False False  True False  True False  True  True False]\n"
     ]
    }
   ],
   "source": [
    "m = BGMMs[len(dsets[\"BostonHousing\"])]\n",
    "from gmm_impute import mask_matrix\n",
    "mask = np.zeros([m['means'].shape[1]], dtype=np.bool)\n",
    "mask[[1,2,5,7,9,10]] = True\n",
    "print(\"mask:\", mask)\n",
    "inp = dsets[\"BostonHousing\"].values[0]\n",
    "\n",
    "def compute_classically():\n",
    "    K_12 = mask_matrix(m['covariances'],mask,~mask)\n",
    "    K_22__1 = np.linalg.inv(mask_matrix(m['covariances'],~mask,~mask))\n",
    "    K_1222 = K_12 @ K_22__1\n",
    "    K_21 = mask_matrix(m['covariances'],~mask,mask)\n",
    "    K_11 = mask_matrix(m['covariances'],mask,mask)\n",
    "\n",
    "    diff = np.expand_dims(inp[~mask] - m['means'][:,~mask], axis=2)\n",
    "    return (m['means'][:,mask] + np.squeeze(K_1222 @ diff, axis=2)), (K_11 - K_1222 @ K_21)\n",
    "\n",
    "def compute_newly():\n",
    "    K12 = m['covariances']*(mask[:,None])*(~mask)"
   ]
  },
  {
   "cell_type": "code",
   "execution_count": 12,
   "metadata": {},
   "outputs": [
    {
     "name": "stdout",
     "output_type": "stream",
     "text": [
      "CPU times: user 57.5 s, sys: 2min 6s, total: 3min 3s\n",
      "Wall time: 23.2 s\n"
     ]
    }
   ],
   "source": [
    "%%time\n",
    "def gmm_impute_f(_path, dataset):\n",
    "    _dataset = dataset.values\n",
    "    ndarray = gmm_impute._gmm_impute(BGMMs[len(dataset)], _dataset)\n",
    "    return list(pd.DataFrame(a, index=dataset.index, columns=dataset.columns) for a in ndarray)\n",
    "benchmark_gmm = datasets.benchmark({'GMM': gmm_impute_f}, dsets)"
   ]
  },
  {
   "cell_type": "code",
   "execution_count": null,
   "metadata": {
    "collapsed": true
   },
   "outputs": [],
   "source": [
    "%%time\n",
    "def ff(p, d):\n",
    "    return gmm_dae.gmm_dae_impute(p, d, BGMMs[len(d)])\n",
    "gmm_dae = datasets.benchmark({'GMM_dae': ff}, dsets)"
   ]
  },
  {
   "cell_type": "code",
   "execution_count": null,
   "metadata": {},
   "outputs": [],
   "source": [
    "print(\"RECALL: the GMMs are learned from the full data.\")\n",
    "pd.concat([baseline, benchmark_gmm, gmm_dae], axis=1)"
   ]
  }
 ],
 "metadata": {
  "kernelspec": {
   "display_name": "Python 3",
   "language": "python",
   "name": "python3"
  },
  "language_info": {
   "codemirror_mode": {
    "name": "ipython",
    "version": 3
   },
   "file_extension": ".py",
   "mimetype": "text/x-python",
   "name": "python",
   "nbconvert_exporter": "python",
   "pygments_lexer": "ipython3",
   "version": "3.5.2"
  }
 },
 "nbformat": 4,
 "nbformat_minor": 2
}
