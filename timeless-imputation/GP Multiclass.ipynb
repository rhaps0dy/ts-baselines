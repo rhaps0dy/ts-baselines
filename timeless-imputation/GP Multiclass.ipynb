{
 "cells": [
  {
   "cell_type": "code",
   "execution_count": 2,
   "metadata": {
    "collapsed": true
   },
   "outputs": [],
   "source": [
    "import GPflow\n",
    "import GPy\n",
    "import tensorflow as tf\n",
    "import matplotlib\n",
    "import numpy as np\n",
    "import matplotlib.pyplot as plt\n",
    "from sklearn.metrics import accuracy_score\n",
    "from sklearn.ensemble import RandomForestClassifier\n",
    "plt.style.use('ggplot')\n",
    "%matplotlib inline\n",
    "\n",
    "import datasets\n",
    "import category_dae\n",
    "import missForest as mf"
   ]
  },
  {
   "cell_type": "code",
   "execution_count": 3,
   "metadata": {},
   "outputs": [
    {
     "name": "stdout",
     "output_type": "stream",
     "text": [
      "+++ Importing LetterRecognition\n",
      "+++ Importing Shuttle\n",
      "+++ Importing BreastCancer\n",
      "+++ Importing BostonHousing\n",
      "+++ Importing Servo\n",
      "+++ Importing Ionosphere\n",
      "V2 ; must have more than 1 possible value\n",
      "+++ Importing Soybean\n"
     ]
    }
   ],
   "source": [
    "dataset = datasets.datasets(exclude_labels=False)[\"Soybean\"]\n",
    "info = category_dae.dataset_dimensions_info(dataset)\n",
    "test_df, _ = mf.preprocess_dataframe(\n",
    "    dataset[0], info, ignore_ordered=True)\n",
    "test_df = test_df.dropna()\n",
    "y = test_df[info[\"cat_dummies\"][\"Class\"]]\n",
    "X = test_df.drop(y.keys(), axis=1)\n"
   ]
  },
  {
   "cell_type": "code",
   "execution_count": 33,
   "metadata": {},
   "outputs": [
    {
     "ename": "AttributeError",
     "evalue": "'numpy.ndarray' object has no attribute 'values'",
     "output_type": "error",
     "traceback": [
      "\u001b[0;31m---------------------------------------------------------------------------\u001b[0m",
      "\u001b[0;31mAttributeError\u001b[0m                            Traceback (most recent call last)",
      "\u001b[0;32m<ipython-input-33-2a29f4d8fc73>\u001b[0m in \u001b[0;36m<module>\u001b[0;34m()\u001b[0m\n\u001b[0;32m----> 1\u001b[0;31m \u001b[0my\u001b[0m \u001b[0;34m=\u001b[0m \u001b[0mnp\u001b[0m\u001b[0;34m.\u001b[0m\u001b[0margmax\u001b[0m\u001b[0;34m(\u001b[0m\u001b[0my\u001b[0m\u001b[0;34m.\u001b[0m\u001b[0mvalues\u001b[0m\u001b[0;34m,\u001b[0m \u001b[0maxis\u001b[0m\u001b[0;34m=\u001b[0m\u001b[0;36m1\u001b[0m\u001b[0;34m)\u001b[0m\u001b[0;34m[\u001b[0m\u001b[0;34m:\u001b[0m\u001b[0;34m,\u001b[0m \u001b[0mnp\u001b[0m\u001b[0;34m.\u001b[0m\u001b[0mnewaxis\u001b[0m\u001b[0;34m]\u001b[0m\u001b[0;34m\u001b[0m\u001b[0m\n\u001b[0m\u001b[1;32m      2\u001b[0m \u001b[0mX\u001b[0m \u001b[0;34m=\u001b[0m \u001b[0mX\u001b[0m\u001b[0;34m.\u001b[0m\u001b[0mvalues\u001b[0m\u001b[0;34m\u001b[0m\u001b[0m\n\u001b[1;32m      3\u001b[0m \u001b[0mn_classes\u001b[0m \u001b[0;34m=\u001b[0m \u001b[0my\u001b[0m\u001b[0;34m.\u001b[0m\u001b[0mmax\u001b[0m\u001b[0;34m(\u001b[0m\u001b[0;34m)\u001b[0m\u001b[0;34m+\u001b[0m\u001b[0;36m1\u001b[0m\u001b[0;34m\u001b[0m\u001b[0m\n\u001b[1;32m      4\u001b[0m \u001b[0mn_features\u001b[0m \u001b[0;34m=\u001b[0m \u001b[0mX\u001b[0m\u001b[0;34m.\u001b[0m\u001b[0mshape\u001b[0m\u001b[0;34m[\u001b[0m\u001b[0;36m1\u001b[0m\u001b[0;34m]\u001b[0m\u001b[0;34m\u001b[0m\u001b[0m\n\u001b[1;32m      5\u001b[0m \u001b[0mtest_mask\u001b[0m \u001b[0;34m=\u001b[0m \u001b[0mnp\u001b[0m\u001b[0;34m.\u001b[0m\u001b[0mrandom\u001b[0m\u001b[0;34m.\u001b[0m\u001b[0mrand\u001b[0m\u001b[0;34m(\u001b[0m\u001b[0mlen\u001b[0m\u001b[0;34m(\u001b[0m\u001b[0mX\u001b[0m\u001b[0;34m)\u001b[0m\u001b[0;34m)\u001b[0m \u001b[0;34m<\u001b[0m \u001b[0;36m0.2\u001b[0m\u001b[0;34m\u001b[0m\u001b[0m\n",
      "\u001b[0;31mAttributeError\u001b[0m: 'numpy.ndarray' object has no attribute 'values'"
     ]
    }
   ],
   "source": [
    "y = np.argmax(y.values, axis=1)[:, np.newaxis]\n",
    "X = X.values\n",
    "n_classes = y.max()+1\n",
    "n_features = X.shape[1]\n",
    "test_mask = np.random.rand(len(X)) < 0.2\n",
    "X_train = X[~test_mask]\n",
    "X_test = X[test_mask]\n",
    "y_train = y[~test_mask]\n",
    "y_test = y[test_mask]"
   ]
  },
  {
   "cell_type": "code",
   "execution_count": 46,
   "metadata": {},
   "outputs": [],
   "source": [
    "kern = GPflow.kernels.Matern32(n_features, ARD=True) + GPflow.kernels.White(n_features, variance=0.01)\n",
    "Z = X_train.copy()\n",
    "np.random.shuffle(Z)\n",
    "m = GPflow.svgp.SVGP(X_train, y_train, kern=kern,\n",
    "                   likelihood=GPflow.likelihoods.MultiClass(n_classes),\n",
    "                   Z=Z[:200], num_latent=n_classes)"
   ]
  },
  {
   "cell_type": "code",
   "execution_count": 47,
   "metadata": {},
   "outputs": [
    {
     "name": "stdout",
     "output_type": "stream",
     "text": [
      "CPU times: user 1min 29s, sys: 13.3 s, total: 1min 42s\n",
      "Wall time: 55.5 s\n"
     ]
    },
    {
     "data": {
      "text/plain": [
       "      fun: 481.87423858304123\n",
       " hess_inv: <405601x405601 LbfgsInvHessProduct with dtype=float64>\n",
       "      jac: array([ -1.11233090e-03,   1.25575613e-03,  -1.27346927e-03, ...,\n",
       "         2.84449215e-05,   2.67499044e-06,  -4.28594282e-03])\n",
       "  message: b'STOP: TOTAL NO. of ITERATIONS EXCEEDS LIMIT'\n",
       "     nfev: 115\n",
       "      nit: 101\n",
       "   status: 1\n",
       "  success: False\n",
       "        x: array([ -2.37872730e-01,   1.33053024e+00,  -2.34183133e-01, ...,\n",
       "         2.68789244e-05,   2.96099576e-05,   9.93690877e-01])"
      ]
     },
     "execution_count": 47,
     "metadata": {},
     "output_type": "execute_result"
    }
   ],
   "source": [
    "%%time\n",
    "m.optimize(maxiter=100)"
   ]
  },
  {
   "cell_type": "code",
   "execution_count": 44,
   "metadata": {},
   "outputs": [
    {
     "name": "stdout",
     "output_type": "stream",
     "text": [
      "0.942184154176\n"
     ]
    }
   ],
   "source": [
    "print(accuracy_score(np.argmax(m.predict_y(X_train)[0], axis=1), y_train.flatten()))"
   ]
  },
  {
   "cell_type": "code",
   "execution_count": 45,
   "metadata": {},
   "outputs": [
    {
     "name": "stdout",
     "output_type": "stream",
     "text": [
      "0.905263157895\n"
     ]
    }
   ],
   "source": [
    "print(accuracy_score(np.argmax(m.predict_y(X_test)[0], axis=1), y_test.flatten()))"
   ]
  },
  {
   "cell_type": "code",
   "execution_count": 9,
   "metadata": {},
   "outputs": [
    {
     "name": "stderr",
     "output_type": "stream",
     "text": [
      " /home/adria/venv/lib/python3.5/site-packages/ipykernel_launcher.py:5: DataConversionWarning:A column-vector y was passed when a 1d array was expected. Please change the shape of y to (n_samples,), for example using ravel().\n"
     ]
    },
    {
     "name": "stdout",
     "output_type": "stream",
     "text": [
      "0.997858672377\n",
      "0.905263157895\n",
      "Test: 0.905263, Training: 0.997859\n"
     ]
    }
   ],
   "source": [
    "rf = RandomForestClassifier(n_estimators=100, n_jobs=-1,\n",
    "                           max_features=int(np.floor(X_train.shape[1]**.5)),\n",
    "                           bootstrap=False,\n",
    "                           min_samples_split=5)\n",
    "rf.fit(X_train, y_train)\n",
    "train_perf = rf.score(X_train, y_train)\n",
    "test_perf = rf.score(X_test, y_test)\n",
    "print(accuracy_score(rf.predict(X_train), y_train))\n",
    "print(accuracy_score(rf.predict(X_test), y_test))\n",
    "print(\"Test: {:f}, Training: {:f}\".format(test_perf, train_perf))"
   ]
  }
 ],
 "metadata": {
  "kernelspec": {
   "display_name": "Python 3",
   "language": "python",
   "name": "python3"
  },
  "language_info": {
   "codemirror_mode": {
    "name": "ipython",
    "version": 3
   },
   "file_extension": ".py",
   "mimetype": "text/x-python",
   "name": "python",
   "nbconvert_exporter": "python",
   "pygments_lexer": "ipython3",
   "version": "3.5.2"
  }
 },
 "nbformat": 4,
 "nbformat_minor": 2
}
