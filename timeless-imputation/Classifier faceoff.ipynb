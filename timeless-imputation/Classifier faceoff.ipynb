{
 "cells": [
  {
   "cell_type": "code",
   "execution_count": 58,
   "metadata": {
    "collapsed": true
   },
   "outputs": [],
   "source": [
    "import datasets\n",
    "import utils\n",
    "import numpy as np\n",
    "from sklearn.ensemble import RandomForestClassifier\n",
    "from sklearn.metrics import accuracy_score\n",
    "import tensorflow as tf\n",
    "import GPflow\n",
    "import GPy"
   ]
  },
  {
   "cell_type": "code",
   "execution_count": 5,
   "metadata": {},
   "outputs": [
    {
     "name": "stdout",
     "output_type": "stream",
     "text": [
      "+++ Importing BostonHousing\n",
      "+++ Importing BreastCancer\n",
      "+++ Importing Servo\n",
      "+++ Importing Shuttle\n",
      "+++ Importing Ionosphere\n",
      "V2 ; must have more than 1 possible value\n",
      "+++ Importing Soybean\n",
      "+++ Importing LetterRecognition\n",
      "float64 int32\n"
     ]
    }
   ],
   "source": [
    "dset = datasets.datasets(exclude_labels=False)[\"LetterRecognition\"][0]\n",
    "test_mask = np.random.rand(len(dset)) < 0.2\n",
    "y_train = dset[\"lettr\"].values[~test_mask]\n",
    "X_train = dset.drop([\"lettr\"], axis=1).values[~test_mask]\n",
    "\n",
    "print(X_train.dtype, y_train.dtype)\n",
    "Xm, Xs = X_train.mean(axis=0), X_train.std(axis=0)\n",
    "\n",
    "X_train = (X_train-Xm)/Xs\n",
    "y_test = dset[\"lettr\"].values[test_mask]\n",
    "X_test = (dset.values[test_mask, 1:]-Xm)/Xs\n"
   ]
  },
  {
   "cell_type": "code",
   "execution_count": 12,
   "metadata": {},
   "outputs": [
    {
     "name": "stdout",
     "output_type": "stream",
     "text": [
      "Test: 0.968479, Training: 0.999937\n"
     ]
    }
   ],
   "source": [
    "rf = RandomForestClassifier(n_estimators=100, n_jobs=-1,\n",
    "                           max_features=int(np.floor(X_train.shape[1]**.5)),\n",
    "                           bootstrap=False,\n",
    "                           min_samples_split=5)\n",
    "rf.fit(X_train, y_train)\n",
    "train_perf = rf.score(X_train, y_train)\n",
    "test_perf = rf.score(X_test, y_test)\n",
    "print(accuracy_score(rf.predict(X_train), y_train))\n",
    "print(accuracy_score(rf.predict(X_test), y_test))\n",
    "print(\"Test: {:f}, Training: {:f}\".format(test_perf, train_perf))"
   ]
  },
  {
   "cell_type": "code",
   "execution_count": 3,
   "metadata": {
    "collapsed": true
   },
   "outputs": [],
   "source": [
    "def r_squared(y_true, y):\n",
    "    u = np.sum((y-y_true)**2)\n",
    "    v = np.sum((y_true - np.mean(y_true))**2)\n",
    "    return 1 - u/v\n",
    "\n",
    "def "
   ]
  },
  {
   "cell_type": "code",
   "execution_count": 17,
   "metadata": {
    "collapsed": true
   },
   "outputs": [],
   "source": [
    "import selu\n",
    "import denoising_ae as dae\n",
    "import imp\n",
    "imp.reload(dae)\n",
    "imp.reload(selu)\n",
    "\n",
    "tf_float = tf.float32\n",
    "tf.reset_default_graph()\n",
    "\n",
    "nn_X = tf.placeholder(tf_float, shape=[None, X_train.shape[1]], name=\"X\")\n",
    "nn_y = tf.placeholder(tf.int32, shape=[None], name=\"y\")\n",
    "nn_kp = tf.placeholder(tf_float, shape=[], name=\"keep_prob\")\n",
    "nn_lr = tf.placeholder(tf_float, shape=[], name=\"learning_rate\")\n",
    "\n",
    "\n",
    "nn_preds = dae.FC_net(nn_X, [(512, selu.nlin)]*4 + [(y_train.max()+1, None)], selu.initializer, keep_prob=nn_kp)\n",
    "nn_loss = tf.reduce_mean(tf.losses.sparse_softmax_cross_entropy(logits=nn_preds, labels=nn_y))\n",
    "nn_labels = tf.argmax(nn_preds, axis=1)\n",
    "nn_train = tf.train.GradientDescentOptimizer(nn_lr).minimize(nn_loss)"
   ]
  },
  {
   "cell_type": "code",
   "execution_count": 18,
   "metadata": {},
   "outputs": [
    {
     "name": "stderr",
     "output_type": "stream",
     "text": [
      "\n",
      "0it [00:00, ?it/s]\u001b[A\n",
      "Loss: 3.73152494430542 Train: 0.046875 Test: 0.055100521221146684 : 2it [00:00, 17.82it/s]\u001b[A\n",
      "Loss: 3.73152494430542 Train: 0.046875 Test: 0.055100521221146684 : 15it [00:00, 24.00it/s]\u001b[A\n",
      "Loss: 3.73152494430542 Train: 0.046875 Test: 0.055100521221146684 : 28it [00:00, 31.66it/s]\u001b[A\n",
      "Loss: 3.73152494430542 Train: 0.046875 Test: 0.055100521221146684 : 41it [00:00, 40.81it/s]\u001b[A\n",
      "Loss: 3.73152494430542 Train: 0.046875 Test: 0.055100521221146684 : 54it [00:00, 50.93it/s]\u001b[A\n",
      "Loss: 3.73152494430542 Train: 0.046875 Test: 0.055100521221146684 : 64it [00:00, 59.67it/s]\u001b[A\n",
      "Loss: 3.73152494430542 Train: 0.046875 Test: 0.055100521221146684 : 75it [00:00, 62.64it/s]\u001b[A\n",
      "Loss: 3.73152494430542 Train: 0.046875 Test: 0.055100521221146684 : 88it [00:00, 73.81it/s]\u001b[A\n",
      "Loss: 2.016108989715576 Train: 0.5390625 Test: 0.46487962273517003 : 101it [00:01, 78.12it/s]\u001b[A\n",
      "Loss: 2.016108989715576 Train: 0.5390625 Test: 0.46487962273517003 : 114it [00:01, 88.40it/s]\u001b[A\n",
      "Loss: 2.016108989715576 Train: 0.5390625 Test: 0.46487962273517003 : 129it [00:01, 99.36it/s]\u001b[A\n",
      "Loss: 2.016108989715576 Train: 0.5390625 Test: 0.46487962273517003 : 143it [00:01, 107.76it/s]\u001b[A\n",
      "Loss: 2.016108989715576 Train: 0.5390625 Test: 0.46487962273517003 : 157it [00:01, 114.32it/s]\u001b[A\n",
      "Loss: 2.016108989715576 Train: 0.5390625 Test: 0.46487962273517003 : 170it [00:01, 116.42it/s]\u001b[A\n",
      "Loss: 2.016108989715576 Train: 0.5390625 Test: 0.46487962273517003 : 183it [00:01, 115.94it/s]\u001b[A\n",
      "Loss: 2.016108989715576 Train: 0.5390625 Test: 0.46487962273517003 : 196it [00:01, 118.09it/s]\u001b[A\n",
      "Loss: 1.5862834453582764 Train: 0.640625 Test: 0.6080913378009432 : 209it [00:01, 110.86it/s] \u001b[A\n",
      "Loss: 1.5862834453582764 Train: 0.640625 Test: 0.6080913378009432 : 223it [00:02, 116.31it/s]\u001b[A\n",
      "Loss: 1.5862834453582764 Train: 0.640625 Test: 0.6080913378009432 : 236it [00:02, 119.39it/s]\u001b[A\n",
      "Loss: 1.5862834453582764 Train: 0.640625 Test: 0.6080913378009432 : 250it [00:02, 123.71it/s]\u001b[A\n",
      "Loss: 1.5862834453582764 Train: 0.640625 Test: 0.6080913378009432 : 264it [00:02, 126.53it/s]\u001b[A\n",
      "Loss: 1.5862834453582764 Train: 0.640625 Test: 0.6080913378009432 : 279it [00:02, 131.45it/s]\u001b[A\n",
      "Loss: 1.5862834453582764 Train: 0.640625 Test: 0.6080913378009432 : 293it [00:02, 132.30it/s]\u001b[A\n",
      "Loss: 1.576680064201355 Train: 0.5859375 Test: 0.6562422437329362 : 307it [00:02, 121.65it/s]\u001b[A\n",
      "Loss: 1.576680064201355 Train: 0.5859375 Test: 0.6562422437329362 : 320it [00:02, 120.40it/s]\u001b[A\n",
      "Loss: 1.576680064201355 Train: 0.5859375 Test: 0.6562422437329362 : 333it [00:02, 117.05it/s]\u001b[A\n",
      "Loss: 1.576680064201355 Train: 0.5859375 Test: 0.6562422437329362 : 345it [00:03, 115.84it/s]\u001b[A\n",
      "Loss: 1.576680064201355 Train: 0.5859375 Test: 0.6562422437329362 : 358it [00:03, 117.48it/s]\u001b[A\n",
      "Loss: 1.576680064201355 Train: 0.5859375 Test: 0.6562422437329362 : 372it [00:03, 122.52it/s]\u001b[A\n",
      "Loss: 1.576680064201355 Train: 0.5859375 Test: 0.6562422437329362 : 386it [00:03, 126.13it/s]\u001b[A\n",
      "Loss: 1.576680064201355 Train: 0.5859375 Test: 0.6562422437329362 : 399it [00:03, 126.53it/s]\u001b[A\n",
      "Loss: 0.9022259712219238 Train: 0.7734375 Test: 0.7788533134772897 : 6083it [00:49, 128.67it/s]"
     ]
    },
    {
     "ename": "KeyboardInterrupt",
     "evalue": "",
     "output_type": "error",
     "traceback": [
      "\u001b[0;31m---------------------------------------------------------------------------\u001b[0m",
      "\u001b[0;31mKeyboardInterrupt\u001b[0m                         Traceback (most recent call last)",
      "\u001b[0;32m<ipython-input-18-4b331e5ea1c6>\u001b[0m in \u001b[0;36m<module>\u001b[0;34m()\u001b[0m\n\u001b[1;32m     33\u001b[0m         \u001b[0mpbar\u001b[0m\u001b[0;34m.\u001b[0m\u001b[0mset_description\u001b[0m\u001b[0;34m(\u001b[0m\u001b[0md\u001b[0m\u001b[0;34m)\u001b[0m\u001b[0;34m\u001b[0m\u001b[0m\n\u001b[1;32m     34\u001b[0m     \u001b[0;32melse\u001b[0m\u001b[0;34m:\u001b[0m\u001b[0;34m\u001b[0m\u001b[0m\n\u001b[0;32m---> 35\u001b[0;31m         \u001b[0msess\u001b[0m\u001b[0;34m.\u001b[0m\u001b[0mrun\u001b[0m\u001b[0;34m(\u001b[0m\u001b[0mnn_train\u001b[0m\u001b[0;34m,\u001b[0m \u001b[0mfeed_dict\u001b[0m\u001b[0;34m)\u001b[0m\u001b[0;34m\u001b[0m\u001b[0m\n\u001b[0m",
      "\u001b[0;32m~/venv/lib/python3.5/site-packages/tensorflow/python/client/session.py\u001b[0m in \u001b[0;36mrun\u001b[0;34m(self, fetches, feed_dict, options, run_metadata)\u001b[0m\n\u001b[1;32m    787\u001b[0m     \u001b[0;32mtry\u001b[0m\u001b[0;34m:\u001b[0m\u001b[0;34m\u001b[0m\u001b[0m\n\u001b[1;32m    788\u001b[0m       result = self._run(None, fetches, feed_dict, options_ptr,\n\u001b[0;32m--> 789\u001b[0;31m                          run_metadata_ptr)\n\u001b[0m\u001b[1;32m    790\u001b[0m       \u001b[0;32mif\u001b[0m \u001b[0mrun_metadata\u001b[0m\u001b[0;34m:\u001b[0m\u001b[0;34m\u001b[0m\u001b[0m\n\u001b[1;32m    791\u001b[0m         \u001b[0mproto_data\u001b[0m \u001b[0;34m=\u001b[0m \u001b[0mtf_session\u001b[0m\u001b[0;34m.\u001b[0m\u001b[0mTF_GetBuffer\u001b[0m\u001b[0;34m(\u001b[0m\u001b[0mrun_metadata_ptr\u001b[0m\u001b[0;34m)\u001b[0m\u001b[0;34m\u001b[0m\u001b[0m\n",
      "\u001b[0;32m~/venv/lib/python3.5/site-packages/tensorflow/python/client/session.py\u001b[0m in \u001b[0;36m_run\u001b[0;34m(self, handle, fetches, feed_dict, options, run_metadata)\u001b[0m\n\u001b[1;32m    995\u001b[0m     \u001b[0;32mif\u001b[0m \u001b[0mfinal_fetches\u001b[0m \u001b[0;32mor\u001b[0m \u001b[0mfinal_targets\u001b[0m\u001b[0;34m:\u001b[0m\u001b[0;34m\u001b[0m\u001b[0m\n\u001b[1;32m    996\u001b[0m       results = self._do_run(handle, final_targets, final_fetches,\n\u001b[0;32m--> 997\u001b[0;31m                              feed_dict_string, options, run_metadata)\n\u001b[0m\u001b[1;32m    998\u001b[0m     \u001b[0;32melse\u001b[0m\u001b[0;34m:\u001b[0m\u001b[0;34m\u001b[0m\u001b[0m\n\u001b[1;32m    999\u001b[0m       \u001b[0mresults\u001b[0m \u001b[0;34m=\u001b[0m \u001b[0;34m[\u001b[0m\u001b[0;34m]\u001b[0m\u001b[0;34m\u001b[0m\u001b[0m\n",
      "\u001b[0;32m~/venv/lib/python3.5/site-packages/tensorflow/python/client/session.py\u001b[0m in \u001b[0;36m_do_run\u001b[0;34m(self, handle, target_list, fetch_list, feed_dict, options, run_metadata)\u001b[0m\n\u001b[1;32m   1130\u001b[0m     \u001b[0;32mif\u001b[0m \u001b[0mhandle\u001b[0m \u001b[0;32mis\u001b[0m \u001b[0;32mNone\u001b[0m\u001b[0;34m:\u001b[0m\u001b[0;34m\u001b[0m\u001b[0m\n\u001b[1;32m   1131\u001b[0m       return self._do_call(_run_fn, self._session, feed_dict, fetch_list,\n\u001b[0;32m-> 1132\u001b[0;31m                            target_list, options, run_metadata)\n\u001b[0m\u001b[1;32m   1133\u001b[0m     \u001b[0;32melse\u001b[0m\u001b[0;34m:\u001b[0m\u001b[0;34m\u001b[0m\u001b[0m\n\u001b[1;32m   1134\u001b[0m       return self._do_call(_prun_fn, self._session, handle, feed_dict,\n",
      "\u001b[0;32m~/venv/lib/python3.5/site-packages/tensorflow/python/client/session.py\u001b[0m in \u001b[0;36m_do_call\u001b[0;34m(self, fn, *args)\u001b[0m\n\u001b[1;32m   1137\u001b[0m   \u001b[0;32mdef\u001b[0m \u001b[0m_do_call\u001b[0m\u001b[0;34m(\u001b[0m\u001b[0mself\u001b[0m\u001b[0;34m,\u001b[0m \u001b[0mfn\u001b[0m\u001b[0;34m,\u001b[0m \u001b[0;34m*\u001b[0m\u001b[0margs\u001b[0m\u001b[0;34m)\u001b[0m\u001b[0;34m:\u001b[0m\u001b[0;34m\u001b[0m\u001b[0m\n\u001b[1;32m   1138\u001b[0m     \u001b[0;32mtry\u001b[0m\u001b[0;34m:\u001b[0m\u001b[0;34m\u001b[0m\u001b[0m\n\u001b[0;32m-> 1139\u001b[0;31m       \u001b[0;32mreturn\u001b[0m \u001b[0mfn\u001b[0m\u001b[0;34m(\u001b[0m\u001b[0;34m*\u001b[0m\u001b[0margs\u001b[0m\u001b[0;34m)\u001b[0m\u001b[0;34m\u001b[0m\u001b[0m\n\u001b[0m\u001b[1;32m   1140\u001b[0m     \u001b[0;32mexcept\u001b[0m \u001b[0merrors\u001b[0m\u001b[0;34m.\u001b[0m\u001b[0mOpError\u001b[0m \u001b[0;32mas\u001b[0m \u001b[0me\u001b[0m\u001b[0;34m:\u001b[0m\u001b[0;34m\u001b[0m\u001b[0m\n\u001b[1;32m   1141\u001b[0m       \u001b[0mmessage\u001b[0m \u001b[0;34m=\u001b[0m \u001b[0mcompat\u001b[0m\u001b[0;34m.\u001b[0m\u001b[0mas_text\u001b[0m\u001b[0;34m(\u001b[0m\u001b[0me\u001b[0m\u001b[0;34m.\u001b[0m\u001b[0mmessage\u001b[0m\u001b[0;34m)\u001b[0m\u001b[0;34m\u001b[0m\u001b[0m\n",
      "\u001b[0;32m~/venv/lib/python3.5/site-packages/tensorflow/python/client/session.py\u001b[0m in \u001b[0;36m_run_fn\u001b[0;34m(session, feed_dict, fetch_list, target_list, options, run_metadata)\u001b[0m\n\u001b[1;32m   1119\u001b[0m         return tf_session.TF_Run(session, options,\n\u001b[1;32m   1120\u001b[0m                                  \u001b[0mfeed_dict\u001b[0m\u001b[0;34m,\u001b[0m \u001b[0mfetch_list\u001b[0m\u001b[0;34m,\u001b[0m \u001b[0mtarget_list\u001b[0m\u001b[0;34m,\u001b[0m\u001b[0;34m\u001b[0m\u001b[0m\n\u001b[0;32m-> 1121\u001b[0;31m                                  status, run_metadata)\n\u001b[0m\u001b[1;32m   1122\u001b[0m \u001b[0;34m\u001b[0m\u001b[0m\n\u001b[1;32m   1123\u001b[0m     \u001b[0;32mdef\u001b[0m \u001b[0m_prun_fn\u001b[0m\u001b[0;34m(\u001b[0m\u001b[0msession\u001b[0m\u001b[0;34m,\u001b[0m \u001b[0mhandle\u001b[0m\u001b[0;34m,\u001b[0m \u001b[0mfeed_dict\u001b[0m\u001b[0;34m,\u001b[0m \u001b[0mfetch_list\u001b[0m\u001b[0;34m)\u001b[0m\u001b[0;34m:\u001b[0m\u001b[0;34m\u001b[0m\u001b[0m\n",
      "\u001b[0;31mKeyboardInterrupt\u001b[0m: "
     ]
    }
   ],
   "source": [
    "from tqdm import tqdm\n",
    "import itertools\n",
    "\n",
    "sess = tf.InteractiveSession()\n",
    "\n",
    "sess.run(tf.global_variables_initializer())\n",
    "sess.run(tf.local_variables_initializer())\n",
    "\n",
    "batch_size = 128\n",
    "\n",
    "num_batches = int(np.ceil(X_train.shape[0] / batch_size))\n",
    "\n",
    "pbar = tqdm(itertools.count(0))\n",
    "for step in pbar:\n",
    "    i = step % num_batches\n",
    "    # Populate feed_dict; duplicated code for num and cat\n",
    "    s = slice(batch_size * i, batch_size * (i + 1))\n",
    "    feed_dict = {nn_kp: 0.95,\n",
    "                 nn_lr: 0.001 if step < 800 else 0.0001,\n",
    "                 nn_X: X_train[s],\n",
    "                 nn_y: y_train[s],\n",
    "                }\n",
    "    del i\n",
    "    \n",
    "    if step % 100 == 0:\n",
    "        _, l, y = sess.run([nn_train, nn_loss, nn_labels], feed_dict)\n",
    "        d = \"Loss: {} \".format(l)\n",
    "        d += \"Train: {} \".format(accuracy_score(y_train[s], y))\n",
    "        y = sess.run(nn_labels, {nn_kp: 1.0,\n",
    "                                 nn_X: X_test,\n",
    "                                 nn_y: y_test})\n",
    "        d += \"Test: {} \".format(accuracy_score(y_test, y))\n",
    "        pbar.set_description(d)\n",
    "    else:\n",
    "        sess.run(nn_train, feed_dict)"
   ]
  },
  {
   "cell_type": "code",
   "execution_count": 41,
   "metadata": {},
   "outputs": [
    {
     "data": {
      "text/plain": [
       "<tensorflow.python.summary.writer.writer.FileWriter at 0x7fe9f279e860>"
      ]
     },
     "execution_count": 41,
     "metadata": {},
     "output_type": "execute_result"
    },
    {
     "name": "stderr",
     "output_type": "stream",
     "text": [
      "\r",
      "          \r",
      "Loss: 0.055597126483917236 Train: 0.9541863795146673 Test: 0.9235167656130201 : 3687it [02:48, 21.89it/s]"
     ]
    }
   ],
   "source": [
    "tf.summary.FileWriter(\"faceoff/\", graph=sess.graph)"
   ]
  },
  {
   "cell_type": "code",
   "execution_count": 23,
   "metadata": {},
   "outputs": [
    {
     "name": "stdout",
     "output_type": "stream",
     "text": [
      "Time for KRR fitting: 0.549\n"
     ]
    }
   ],
   "source": [
    "from sklearn.kernel_ridge import KernelRidge\n",
    "from sklearn.model_selection import GridSearchCV\n",
    "from sklearn.gaussian_process.kernels import WhiteKernel, RBF\n",
    "import time\n",
    "\n",
    "# Fit KernelRidge with parameter selection based on 5-fold cross validation\n",
    "param_grid = {\"alpha\": [1e0, 1e-1, 1e-2, 1e-3],\n",
    "              \"kernel\": [RBF(l)\n",
    "                         for l in np.logspace(-2, 2, 10)]}\n",
    "kr = GridSearchCV(KernelRidge(), cv=5, param_grid=param_grid)\n",
    "stime = time.time()\n",
    "kr.fit(X_train[:100], y_train[:100])\n",
    "print(\"Time for KRR fitting: %.3f\" % (time.time() - stime))"
   ]
  },
  {
   "cell_type": "code",
   "execution_count": 18,
   "metadata": {},
   "outputs": [
    {
     "name": "stdout",
     "output_type": "stream",
     "text": [
      "[ 0.42271147  0.10330646  0.66634543 ...,  0.54132327  0.54132327\n",
      "  0.54132327] [ 181586.72233875]\n",
      "[ 0.42271147  0.10330646  0.66634543 ...,  0.54132327  0.54132327\n",
      "  0.54132327] [ 180537.74127184]\n",
      "[ 0.42271147  0.10330646  0.66634543 ...,  0.54132327  0.54132327\n",
      "  0.54132327] [ 179500.65675795]\n",
      "[ 0.42271147  0.10330646  0.66634543 ...,  0.54132327  0.54132327\n",
      "  0.54132327] [ 178476.56694212]\n",
      "[ 0.42271147  0.10330646  0.66634543 ...,  0.54132327  0.54132327\n",
      "  0.54132327] [ 177466.08404523]\n",
      "[ 0.42271147  0.10330646  0.66634543 ...,  0.54132327  0.54132327\n",
      "  0.54132327] [ 176469.42592986]\n",
      "[ 0.42271147  0.10330646  0.66634543 ...,  0.54132327  0.54132327\n",
      "  0.54132327] [ 175486.5617425]\n",
      "[ 0.42271147  0.10330646  0.66634543 ...,  0.54132327  0.54132327\n",
      "  0.54132327] [ 174517.32678109]\n",
      "Caught KeyboardInterrupt, setting model                  with most recent state.\n"
     ]
    }
   ],
   "source": [
    "Z = np.random.rand(1000, X_train.shape[1])\n",
    "rbf = GPflow.kernels.RBF(X_train.shape[1], variance=1, ARD=True)\n",
    "m = GPflow.sgpr.SGPR(X_train, y_train[:,None], kern=rbf, Z=Z)\n",
    "def logger(x):\n",
    "    if (logger.i % 10) == 0:\n",
    "        print(x, m._objective(x)[0])\n",
    "    logger.i+=1\n",
    "logger.i = 0\n",
    "\n",
    "m.optimize(method=tf.train.AdamOptimizer(), callback=logger)\n",
    "\n"
   ]
  },
  {
   "cell_type": "code",
   "execution_count": 24,
   "metadata": {},
   "outputs": [
    {
     "name": "stdout",
     "output_type": "stream",
     "text": [
      "Train: -4.42959616572\n",
      "Test: -4.39652614283\n"
     ]
    }
   ],
   "source": [
    "y, _ = m.predict_y(X_train)\n",
    "print(\"Train:\", r_squared(y_train, y.flatten()))\n",
    "y, _ = m.predict_y(X_test)\n",
    "print(\"Test:\", r_squared(y_test, y.flatten()))"
   ]
  },
  {
   "cell_type": "code",
   "execution_count": 4,
   "metadata": {},
   "outputs": [
    {
     "name": "stdout",
     "output_type": "stream",
     "text": [
      "+++ Importing BostonHousing\n",
      "+++ Importing Soybean\n",
      "+++ Importing Shuttle\n",
      "+++ Importing Servo\n",
      "+++ Importing LetterRecognition\n",
      "+++ Importing BreastCancer\n",
      "+++ Importing Ionosphere\n",
      "V2 ; must have more than 1 possible value\n"
     ]
    }
   ],
   "source": [
    "import category_dae\n",
    "import missForest as mf\n",
    "import datasets\n",
    "\n",
    "dataset = datasets.datasets(exclude_labels=False)[\"Soybean\"]\n",
    "info = category_dae.dataset_dimensions_info(dataset)\n",
    "test_df, _ = mf.preprocess_dataframe(\n",
    "    dataset[0], info, ignore_ordered=True)"
   ]
  },
  {
   "cell_type": "code",
   "execution_count": 9,
   "metadata": {
    "collapsed": true
   },
   "outputs": [],
   "source": [
    "y = test_df[info[\"cat_dummies\"][\"Class\"]]\n",
    "X = test_df.drop(y.keys(), axis=1)\n",
    "X = (X-X.mean()) / X.std()\n",
    "test_mask = np.random.rand(len(X)) < 0.2"
   ]
  },
  {
   "cell_type": "code",
   "execution_count": 55,
   "metadata": {
    "collapsed": true
   },
   "outputs": [],
   "source": [
    "n_features = X.shape[1]\n",
    "n_classes = y.shape[1]\n",
    "y_train = np.argmax(y.values, axis=1)[:, np.newaxis]\n",
    "X_train = X.values\n",
    "\n",
    "likelihood = GPy.likelihoods.MultiClass(n_classes)\n",
    "\n",
    "kern = GPflow.kernels.Matern32(n_features) + GPflow.kernels.White(n_features)\n",
    "\n",
    "m = GPflow.svgp.SVGP(X.values, ,\n",
    "                   kern=kern, likelihood=likelihood,\n",
    "                   Z=X.values[::5].copy(), num_latent=n_classes)"
   ]
  },
  {
   "cell_type": "code",
   "execution_count": 56,
   "metadata": {
    "collapsed": true
   },
   "outputs": [],
   "source": [
    "kern.matern32.lengthscales.fixed = True\n",
    "kern.matern32.variance.fixed = True\n",
    "kern.white.variance.fixed = True"
   ]
  },
  {
   "cell_type": "code",
   "execution_count": 57,
   "metadata": {},
   "outputs": [
    {
     "ename": "InvalidArgumentError",
     "evalue": "Input matrix is not invertible.\n\t [[Node: model.build_likelihood/conditional/MatrixTriangularSolve = MatrixTriangularSolve[T=DT_DOUBLE, adjoint=false, lower=true, _device=\"/job:localhost/replica:0/task:0/cpu:0\"](model.build_likelihood/conditional/Cholesky, model.build_likelihood/conditional/model.kern.K/Add)]]\n\nCaused by op 'model.build_likelihood/conditional/MatrixTriangularSolve', defined at:\n  File \"/usr/lib/python3.5/runpy.py\", line 184, in _run_module_as_main\n    \"__main__\", mod_spec)\n  File \"/usr/lib/python3.5/runpy.py\", line 85, in _run_code\n    exec(code, run_globals)\n  File \"/home/adria/venv/lib/python3.5/site-packages/ipykernel_launcher.py\", line 16, in <module>\n    app.launch_new_instance()\n  File \"/home/adria/venv/lib/python3.5/site-packages/traitlets/config/application.py\", line 658, in launch_instance\n    app.start()\n  File \"/home/adria/venv/lib/python3.5/site-packages/ipykernel/kernelapp.py\", line 477, in start\n    ioloop.IOLoop.instance().start()\n  File \"/home/adria/venv/lib/python3.5/site-packages/zmq/eventloop/ioloop.py\", line 177, in start\n    super(ZMQIOLoop, self).start()\n  File \"/home/adria/venv/lib/python3.5/site-packages/tornado/ioloop.py\", line 888, in start\n    handler_func(fd_obj, events)\n  File \"/home/adria/venv/lib/python3.5/site-packages/tornado/stack_context.py\", line 277, in null_wrapper\n    return fn(*args, **kwargs)\n  File \"/home/adria/venv/lib/python3.5/site-packages/zmq/eventloop/zmqstream.py\", line 440, in _handle_events\n    self._handle_recv()\n  File \"/home/adria/venv/lib/python3.5/site-packages/zmq/eventloop/zmqstream.py\", line 472, in _handle_recv\n    self._run_callback(callback, msg)\n  File \"/home/adria/venv/lib/python3.5/site-packages/zmq/eventloop/zmqstream.py\", line 414, in _run_callback\n    callback(*args, **kwargs)\n  File \"/home/adria/venv/lib/python3.5/site-packages/tornado/stack_context.py\", line 277, in null_wrapper\n    return fn(*args, **kwargs)\n  File \"/home/adria/venv/lib/python3.5/site-packages/ipykernel/kernelbase.py\", line 283, in dispatcher\n    return self.dispatch_shell(stream, msg)\n  File \"/home/adria/venv/lib/python3.5/site-packages/ipykernel/kernelbase.py\", line 235, in dispatch_shell\n    handler(stream, idents, msg)\n  File \"/home/adria/venv/lib/python3.5/site-packages/ipykernel/kernelbase.py\", line 399, in execute_request\n    user_expressions, allow_stdin)\n  File \"/home/adria/venv/lib/python3.5/site-packages/ipykernel/ipkernel.py\", line 196, in do_execute\n    res = shell.run_cell(code, store_history=store_history, silent=silent)\n  File \"/home/adria/venv/lib/python3.5/site-packages/ipykernel/zmqshell.py\", line 533, in run_cell\n    return super(ZMQInteractiveShell, self).run_cell(*args, **kwargs)\n  File \"/home/adria/venv/lib/python3.5/site-packages/IPython/core/interactiveshell.py\", line 2698, in run_cell\n    interactivity=interactivity, compiler=compiler, result=result)\n  File \"/home/adria/venv/lib/python3.5/site-packages/IPython/core/interactiveshell.py\", line 2808, in run_ast_nodes\n    if self.run_code(code, result):\n  File \"/home/adria/venv/lib/python3.5/site-packages/IPython/core/interactiveshell.py\", line 2862, in run_code\n    exec(code_obj, self.user_global_ns, self.user_ns)\n  File \"<ipython-input-57-5b811c0d0a8d>\", line 7, in <module>\n    m.optimize(method=tf.train.AdamOptimizer(), callback=logger)\n  File \"/home/adria/venv/lib/python3.5/site-packages/GPflow/model.py\", line 225, in optimize\n    return self._optimize_tf(method, callback, maxiter, **kw)\n  File \"/home/adria/venv/lib/python3.5/site-packages/GPflow/model.py\", line 231, in _optimize_tf\n    opt_step = self._compile(optimizer=method)\n  File \"/home/adria/venv/lib/python3.5/site-packages/GPflow/model.py\", line 133, in _compile\n    f = self.build_likelihood() + self.build_prior()\n  File \"/home/adria/venv/lib/python3.5/site-packages/GPflow/scoping.py\", line 43, in runnable\n    return f(*args, **kwargs)\n  File \"/home/adria/venv/lib/python3.5/site-packages/GPflow/svgp.py\", line 104, in build_likelihood\n    fmean, fvar = self.build_predict(self.X, full_cov=False)\n  File \"/home/adria/venv/lib/python3.5/site-packages/GPflow/svgp.py\", line 117, in build_predict\n    q_sqrt=self.q_sqrt, full_cov=full_cov, whiten=self.whiten)\n  File \"/home/adria/venv/lib/python3.5/site-packages/GPflow/scoping.py\", line 43, in runnable\n    return f(*args, **kwargs)\n  File \"/home/adria/venv/lib/python3.5/site-packages/GPflow/conditionals.py\", line 70, in conditional\n    A = tf.matrix_triangular_solve(Lm, Kmn, lower=True)\n  File \"/home/adria/venv/lib/python3.5/site-packages/tensorflow/python/ops/gen_linalg_ops.py\", line 440, in matrix_triangular_solve\n    name=name)\n  File \"/home/adria/venv/lib/python3.5/site-packages/tensorflow/python/framework/op_def_library.py\", line 767, in apply_op\n    op_def=op_def)\n  File \"/home/adria/venv/lib/python3.5/site-packages/tensorflow/python/framework/ops.py\", line 2506, in create_op\n    original_op=self._default_original_op, op_def=op_def)\n  File \"/home/adria/venv/lib/python3.5/site-packages/tensorflow/python/framework/ops.py\", line 1269, in __init__\n    self._traceback = _extract_stack()\n\nInvalidArgumentError (see above for traceback): Input matrix is not invertible.\n\t [[Node: model.build_likelihood/conditional/MatrixTriangularSolve = MatrixTriangularSolve[T=DT_DOUBLE, adjoint=false, lower=true, _device=\"/job:localhost/replica:0/task:0/cpu:0\"](model.build_likelihood/conditional/Cholesky, model.build_likelihood/conditional/model.kern.K/Add)]]\n",
     "output_type": "error",
     "traceback": [
      "\u001b[0;31m---------------------------------------------------------------------------\u001b[0m",
      "\u001b[0;31mInvalidArgumentError\u001b[0m                      Traceback (most recent call last)",
      "\u001b[0;32m~/venv/lib/python3.5/site-packages/tensorflow/python/client/session.py\u001b[0m in \u001b[0;36m_do_call\u001b[0;34m(self, fn, *args)\u001b[0m\n\u001b[1;32m   1138\u001b[0m     \u001b[0;32mtry\u001b[0m\u001b[0;34m:\u001b[0m\u001b[0;34m\u001b[0m\u001b[0m\n\u001b[0;32m-> 1139\u001b[0;31m       \u001b[0;32mreturn\u001b[0m \u001b[0mfn\u001b[0m\u001b[0;34m(\u001b[0m\u001b[0;34m*\u001b[0m\u001b[0margs\u001b[0m\u001b[0;34m)\u001b[0m\u001b[0;34m\u001b[0m\u001b[0m\n\u001b[0m\u001b[1;32m   1140\u001b[0m     \u001b[0;32mexcept\u001b[0m \u001b[0merrors\u001b[0m\u001b[0;34m.\u001b[0m\u001b[0mOpError\u001b[0m \u001b[0;32mas\u001b[0m \u001b[0me\u001b[0m\u001b[0;34m:\u001b[0m\u001b[0;34m\u001b[0m\u001b[0m\n",
      "\u001b[0;32m~/venv/lib/python3.5/site-packages/tensorflow/python/client/session.py\u001b[0m in \u001b[0;36m_run_fn\u001b[0;34m(session, feed_dict, fetch_list, target_list, options, run_metadata)\u001b[0m\n\u001b[1;32m   1120\u001b[0m                                  \u001b[0mfeed_dict\u001b[0m\u001b[0;34m,\u001b[0m \u001b[0mfetch_list\u001b[0m\u001b[0;34m,\u001b[0m \u001b[0mtarget_list\u001b[0m\u001b[0;34m,\u001b[0m\u001b[0;34m\u001b[0m\u001b[0m\n\u001b[0;32m-> 1121\u001b[0;31m                                  status, run_metadata)\n\u001b[0m\u001b[1;32m   1122\u001b[0m \u001b[0;34m\u001b[0m\u001b[0m\n",
      "\u001b[0;32m/usr/lib/python3.5/contextlib.py\u001b[0m in \u001b[0;36m__exit__\u001b[0;34m(self, type, value, traceback)\u001b[0m\n\u001b[1;32m     65\u001b[0m             \u001b[0;32mtry\u001b[0m\u001b[0;34m:\u001b[0m\u001b[0;34m\u001b[0m\u001b[0m\n\u001b[0;32m---> 66\u001b[0;31m                 \u001b[0mnext\u001b[0m\u001b[0;34m(\u001b[0m\u001b[0mself\u001b[0m\u001b[0;34m.\u001b[0m\u001b[0mgen\u001b[0m\u001b[0;34m)\u001b[0m\u001b[0;34m\u001b[0m\u001b[0m\n\u001b[0m\u001b[1;32m     67\u001b[0m             \u001b[0;32mexcept\u001b[0m \u001b[0mStopIteration\u001b[0m\u001b[0;34m:\u001b[0m\u001b[0;34m\u001b[0m\u001b[0m\n",
      "\u001b[0;32m~/venv/lib/python3.5/site-packages/tensorflow/python/framework/errors_impl.py\u001b[0m in \u001b[0;36mraise_exception_on_not_ok_status\u001b[0;34m()\u001b[0m\n\u001b[1;32m    465\u001b[0m           \u001b[0mcompat\u001b[0m\u001b[0;34m.\u001b[0m\u001b[0mas_text\u001b[0m\u001b[0;34m(\u001b[0m\u001b[0mpywrap_tensorflow\u001b[0m\u001b[0;34m.\u001b[0m\u001b[0mTF_Message\u001b[0m\u001b[0;34m(\u001b[0m\u001b[0mstatus\u001b[0m\u001b[0;34m)\u001b[0m\u001b[0;34m)\u001b[0m\u001b[0;34m,\u001b[0m\u001b[0;34m\u001b[0m\u001b[0m\n\u001b[0;32m--> 466\u001b[0;31m           pywrap_tensorflow.TF_GetCode(status))\n\u001b[0m\u001b[1;32m    467\u001b[0m   \u001b[0;32mfinally\u001b[0m\u001b[0;34m:\u001b[0m\u001b[0;34m\u001b[0m\u001b[0m\n",
      "\u001b[0;31mInvalidArgumentError\u001b[0m: Input matrix is not invertible.\n\t [[Node: model.build_likelihood/conditional/MatrixTriangularSolve = MatrixTriangularSolve[T=DT_DOUBLE, adjoint=false, lower=true, _device=\"/job:localhost/replica:0/task:0/cpu:0\"](model.build_likelihood/conditional/Cholesky, model.build_likelihood/conditional/model.kern.K/Add)]]",
      "\nDuring handling of the above exception, another exception occurred:\n",
      "\u001b[0;31mInvalidArgumentError\u001b[0m                      Traceback (most recent call last)",
      "\u001b[0;32m<ipython-input-57-5b811c0d0a8d>\u001b[0m in \u001b[0;36m<module>\u001b[0;34m()\u001b[0m\n\u001b[1;32m      5\u001b[0m \u001b[0mlogger\u001b[0m\u001b[0;34m.\u001b[0m\u001b[0mi\u001b[0m \u001b[0;34m=\u001b[0m \u001b[0;36m0\u001b[0m\u001b[0;34m\u001b[0m\u001b[0m\n\u001b[1;32m      6\u001b[0m \u001b[0;34m\u001b[0m\u001b[0m\n\u001b[0;32m----> 7\u001b[0;31m \u001b[0mm\u001b[0m\u001b[0;34m.\u001b[0m\u001b[0moptimize\u001b[0m\u001b[0;34m(\u001b[0m\u001b[0mmethod\u001b[0m\u001b[0;34m=\u001b[0m\u001b[0mtf\u001b[0m\u001b[0;34m.\u001b[0m\u001b[0mtrain\u001b[0m\u001b[0;34m.\u001b[0m\u001b[0mAdamOptimizer\u001b[0m\u001b[0;34m(\u001b[0m\u001b[0;34m)\u001b[0m\u001b[0;34m,\u001b[0m \u001b[0mcallback\u001b[0m\u001b[0;34m=\u001b[0m\u001b[0mlogger\u001b[0m\u001b[0;34m)\u001b[0m\u001b[0;34m\u001b[0m\u001b[0m\n\u001b[0m",
      "\u001b[0;32m~/venv/lib/python3.5/site-packages/GPflow/model.py\u001b[0m in \u001b[0;36moptimize\u001b[0;34m(self, method, tol, callback, maxiter, **kw)\u001b[0m\n\u001b[1;32m    223\u001b[0m             \u001b[0;32mreturn\u001b[0m \u001b[0mself\u001b[0m\u001b[0;34m.\u001b[0m\u001b[0m_optimize_np\u001b[0m\u001b[0;34m(\u001b[0m\u001b[0mmethod\u001b[0m\u001b[0;34m,\u001b[0m \u001b[0mtol\u001b[0m\u001b[0;34m,\u001b[0m \u001b[0mcallback\u001b[0m\u001b[0;34m,\u001b[0m \u001b[0mmaxiter\u001b[0m\u001b[0;34m,\u001b[0m \u001b[0;34m**\u001b[0m\u001b[0mkw\u001b[0m\u001b[0;34m)\u001b[0m\u001b[0;34m\u001b[0m\u001b[0m\n\u001b[1;32m    224\u001b[0m         \u001b[0;32melse\u001b[0m\u001b[0;34m:\u001b[0m\u001b[0;34m\u001b[0m\u001b[0m\n\u001b[0;32m--> 225\u001b[0;31m             \u001b[0;32mreturn\u001b[0m \u001b[0mself\u001b[0m\u001b[0;34m.\u001b[0m\u001b[0m_optimize_tf\u001b[0m\u001b[0;34m(\u001b[0m\u001b[0mmethod\u001b[0m\u001b[0;34m,\u001b[0m \u001b[0mcallback\u001b[0m\u001b[0;34m,\u001b[0m \u001b[0mmaxiter\u001b[0m\u001b[0;34m,\u001b[0m \u001b[0;34m**\u001b[0m\u001b[0mkw\u001b[0m\u001b[0;34m)\u001b[0m\u001b[0;34m\u001b[0m\u001b[0m\n\u001b[0m\u001b[1;32m    226\u001b[0m \u001b[0;34m\u001b[0m\u001b[0m\n\u001b[1;32m    227\u001b[0m     \u001b[0;32mdef\u001b[0m \u001b[0m_optimize_tf\u001b[0m\u001b[0;34m(\u001b[0m\u001b[0mself\u001b[0m\u001b[0;34m,\u001b[0m \u001b[0mmethod\u001b[0m\u001b[0;34m,\u001b[0m \u001b[0mcallback\u001b[0m\u001b[0;34m,\u001b[0m \u001b[0mmaxiter\u001b[0m\u001b[0;34m)\u001b[0m\u001b[0;34m:\u001b[0m\u001b[0;34m\u001b[0m\u001b[0m\n",
      "\u001b[0;32m~/venv/lib/python3.5/site-packages/GPflow/model.py\u001b[0m in \u001b[0;36m_optimize_tf\u001b[0;34m(self, method, callback, maxiter)\u001b[0m\n\u001b[1;32m    239\u001b[0m                 \u001b[0mself\u001b[0m\u001b[0;34m.\u001b[0m\u001b[0mnum_fevals\u001b[0m \u001b[0;34m+=\u001b[0m \u001b[0;36m1\u001b[0m\u001b[0;34m\u001b[0m\u001b[0m\n\u001b[1;32m    240\u001b[0m                 \u001b[0;32mif\u001b[0m \u001b[0mcallback\u001b[0m \u001b[0;32mis\u001b[0m \u001b[0;32mnot\u001b[0m \u001b[0;32mNone\u001b[0m\u001b[0;34m:\u001b[0m\u001b[0;34m\u001b[0m\u001b[0m\n\u001b[0;32m--> 241\u001b[0;31m                     \u001b[0mcallback\u001b[0m\u001b[0;34m(\u001b[0m\u001b[0mself\u001b[0m\u001b[0;34m.\u001b[0m\u001b[0m_session\u001b[0m\u001b[0;34m.\u001b[0m\u001b[0mrun\u001b[0m\u001b[0;34m(\u001b[0m\u001b[0mself\u001b[0m\u001b[0;34m.\u001b[0m\u001b[0m_free_vars\u001b[0m\u001b[0;34m)\u001b[0m\u001b[0;34m)\u001b[0m\u001b[0;34m\u001b[0m\u001b[0m\n\u001b[0m\u001b[1;32m    242\u001b[0m                 \u001b[0miteration\u001b[0m \u001b[0;34m+=\u001b[0m \u001b[0;36m1\u001b[0m\u001b[0;34m\u001b[0m\u001b[0m\n\u001b[1;32m    243\u001b[0m         \u001b[0;32mexcept\u001b[0m \u001b[0mKeyboardInterrupt\u001b[0m\u001b[0;34m:\u001b[0m\u001b[0;34m\u001b[0m\u001b[0m\n",
      "\u001b[0;32m<ipython-input-57-5b811c0d0a8d>\u001b[0m in \u001b[0;36mlogger\u001b[0;34m(x)\u001b[0m\n\u001b[1;32m      1\u001b[0m \u001b[0;32mdef\u001b[0m \u001b[0mlogger\u001b[0m\u001b[0;34m(\u001b[0m\u001b[0mx\u001b[0m\u001b[0;34m)\u001b[0m\u001b[0;34m:\u001b[0m\u001b[0;34m\u001b[0m\u001b[0m\n\u001b[1;32m      2\u001b[0m     \u001b[0;32mif\u001b[0m \u001b[0;34m(\u001b[0m\u001b[0mlogger\u001b[0m\u001b[0;34m.\u001b[0m\u001b[0mi\u001b[0m \u001b[0;34m%\u001b[0m \u001b[0;36m10\u001b[0m\u001b[0;34m)\u001b[0m \u001b[0;34m==\u001b[0m \u001b[0;36m0\u001b[0m\u001b[0;34m:\u001b[0m\u001b[0;34m\u001b[0m\u001b[0m\n\u001b[0;32m----> 3\u001b[0;31m         \u001b[0mprint\u001b[0m\u001b[0;34m(\u001b[0m\u001b[0mx\u001b[0m\u001b[0;34m,\u001b[0m \u001b[0mm\u001b[0m\u001b[0;34m.\u001b[0m\u001b[0m_objective\u001b[0m\u001b[0;34m(\u001b[0m\u001b[0mx\u001b[0m\u001b[0;34m)\u001b[0m\u001b[0;34m[\u001b[0m\u001b[0;36m0\u001b[0m\u001b[0;34m]\u001b[0m\u001b[0;34m)\u001b[0m\u001b[0;34m\u001b[0m\u001b[0m\n\u001b[0m\u001b[1;32m      4\u001b[0m     \u001b[0mlogger\u001b[0m\u001b[0;34m.\u001b[0m\u001b[0mi\u001b[0m\u001b[0;34m+=\u001b[0m\u001b[0;36m1\u001b[0m\u001b[0;34m\u001b[0m\u001b[0m\n\u001b[1;32m      5\u001b[0m \u001b[0mlogger\u001b[0m\u001b[0;34m.\u001b[0m\u001b[0mi\u001b[0m \u001b[0;34m=\u001b[0m \u001b[0;36m0\u001b[0m\u001b[0;34m\u001b[0m\u001b[0m\n",
      "\u001b[0;32m~/venv/lib/python3.5/site-packages/GPflow/model.py\u001b[0m in \u001b[0;36mobj\u001b[0;34m(x)\u001b[0m\n\u001b[1;32m    159\u001b[0m             \u001b[0mself\u001b[0m\u001b[0;34m.\u001b[0m\u001b[0mupdate_feed_dict\u001b[0m\u001b[0;34m(\u001b[0m\u001b[0mself\u001b[0m\u001b[0;34m.\u001b[0m\u001b[0m_feed_dict_keys\u001b[0m\u001b[0;34m,\u001b[0m \u001b[0mfeed_dict\u001b[0m\u001b[0;34m)\u001b[0m\u001b[0;34m\u001b[0m\u001b[0m\n\u001b[1;32m    160\u001b[0m             f, g = self._session.run([self._minusF, self._minusG],\n\u001b[0;32m--> 161\u001b[0;31m                                      feed_dict=feed_dict)\n\u001b[0m\u001b[1;32m    162\u001b[0m             \u001b[0;32mreturn\u001b[0m \u001b[0mf\u001b[0m\u001b[0;34m.\u001b[0m\u001b[0mastype\u001b[0m\u001b[0;34m(\u001b[0m\u001b[0mnp\u001b[0m\u001b[0;34m.\u001b[0m\u001b[0mfloat64\u001b[0m\u001b[0;34m)\u001b[0m\u001b[0;34m,\u001b[0m \u001b[0mg\u001b[0m\u001b[0;34m.\u001b[0m\u001b[0mastype\u001b[0m\u001b[0;34m(\u001b[0m\u001b[0mnp\u001b[0m\u001b[0;34m.\u001b[0m\u001b[0mfloat64\u001b[0m\u001b[0;34m)\u001b[0m\u001b[0;34m\u001b[0m\u001b[0m\n\u001b[1;32m    163\u001b[0m \u001b[0;34m\u001b[0m\u001b[0m\n",
      "\u001b[0;32m~/venv/lib/python3.5/site-packages/tensorflow/python/client/session.py\u001b[0m in \u001b[0;36mrun\u001b[0;34m(self, fetches, feed_dict, options, run_metadata)\u001b[0m\n\u001b[1;32m    787\u001b[0m     \u001b[0;32mtry\u001b[0m\u001b[0;34m:\u001b[0m\u001b[0;34m\u001b[0m\u001b[0m\n\u001b[1;32m    788\u001b[0m       result = self._run(None, fetches, feed_dict, options_ptr,\n\u001b[0;32m--> 789\u001b[0;31m                          run_metadata_ptr)\n\u001b[0m\u001b[1;32m    790\u001b[0m       \u001b[0;32mif\u001b[0m \u001b[0mrun_metadata\u001b[0m\u001b[0;34m:\u001b[0m\u001b[0;34m\u001b[0m\u001b[0m\n\u001b[1;32m    791\u001b[0m         \u001b[0mproto_data\u001b[0m \u001b[0;34m=\u001b[0m \u001b[0mtf_session\u001b[0m\u001b[0;34m.\u001b[0m\u001b[0mTF_GetBuffer\u001b[0m\u001b[0;34m(\u001b[0m\u001b[0mrun_metadata_ptr\u001b[0m\u001b[0;34m)\u001b[0m\u001b[0;34m\u001b[0m\u001b[0m\n",
      "\u001b[0;32m~/venv/lib/python3.5/site-packages/tensorflow/python/client/session.py\u001b[0m in \u001b[0;36m_run\u001b[0;34m(self, handle, fetches, feed_dict, options, run_metadata)\u001b[0m\n\u001b[1;32m    995\u001b[0m     \u001b[0;32mif\u001b[0m \u001b[0mfinal_fetches\u001b[0m \u001b[0;32mor\u001b[0m \u001b[0mfinal_targets\u001b[0m\u001b[0;34m:\u001b[0m\u001b[0;34m\u001b[0m\u001b[0m\n\u001b[1;32m    996\u001b[0m       results = self._do_run(handle, final_targets, final_fetches,\n\u001b[0;32m--> 997\u001b[0;31m                              feed_dict_string, options, run_metadata)\n\u001b[0m\u001b[1;32m    998\u001b[0m     \u001b[0;32melse\u001b[0m\u001b[0;34m:\u001b[0m\u001b[0;34m\u001b[0m\u001b[0m\n\u001b[1;32m    999\u001b[0m       \u001b[0mresults\u001b[0m \u001b[0;34m=\u001b[0m \u001b[0;34m[\u001b[0m\u001b[0;34m]\u001b[0m\u001b[0;34m\u001b[0m\u001b[0m\n",
      "\u001b[0;32m~/venv/lib/python3.5/site-packages/tensorflow/python/client/session.py\u001b[0m in \u001b[0;36m_do_run\u001b[0;34m(self, handle, target_list, fetch_list, feed_dict, options, run_metadata)\u001b[0m\n\u001b[1;32m   1130\u001b[0m     \u001b[0;32mif\u001b[0m \u001b[0mhandle\u001b[0m \u001b[0;32mis\u001b[0m \u001b[0;32mNone\u001b[0m\u001b[0;34m:\u001b[0m\u001b[0;34m\u001b[0m\u001b[0m\n\u001b[1;32m   1131\u001b[0m       return self._do_call(_run_fn, self._session, feed_dict, fetch_list,\n\u001b[0;32m-> 1132\u001b[0;31m                            target_list, options, run_metadata)\n\u001b[0m\u001b[1;32m   1133\u001b[0m     \u001b[0;32melse\u001b[0m\u001b[0;34m:\u001b[0m\u001b[0;34m\u001b[0m\u001b[0m\n\u001b[1;32m   1134\u001b[0m       return self._do_call(_prun_fn, self._session, handle, feed_dict,\n",
      "\u001b[0;32m~/venv/lib/python3.5/site-packages/tensorflow/python/client/session.py\u001b[0m in \u001b[0;36m_do_call\u001b[0;34m(self, fn, *args)\u001b[0m\n\u001b[1;32m   1150\u001b[0m         \u001b[0;32mexcept\u001b[0m \u001b[0mKeyError\u001b[0m\u001b[0;34m:\u001b[0m\u001b[0;34m\u001b[0m\u001b[0m\n\u001b[1;32m   1151\u001b[0m           \u001b[0;32mpass\u001b[0m\u001b[0;34m\u001b[0m\u001b[0m\n\u001b[0;32m-> 1152\u001b[0;31m       \u001b[0;32mraise\u001b[0m \u001b[0mtype\u001b[0m\u001b[0;34m(\u001b[0m\u001b[0me\u001b[0m\u001b[0;34m)\u001b[0m\u001b[0;34m(\u001b[0m\u001b[0mnode_def\u001b[0m\u001b[0;34m,\u001b[0m \u001b[0mop\u001b[0m\u001b[0;34m,\u001b[0m \u001b[0mmessage\u001b[0m\u001b[0;34m)\u001b[0m\u001b[0;34m\u001b[0m\u001b[0m\n\u001b[0m\u001b[1;32m   1153\u001b[0m \u001b[0;34m\u001b[0m\u001b[0m\n\u001b[1;32m   1154\u001b[0m   \u001b[0;32mdef\u001b[0m \u001b[0m_extend_graph\u001b[0m\u001b[0;34m(\u001b[0m\u001b[0mself\u001b[0m\u001b[0;34m)\u001b[0m\u001b[0;34m:\u001b[0m\u001b[0;34m\u001b[0m\u001b[0m\n",
      "\u001b[0;31mInvalidArgumentError\u001b[0m: Input matrix is not invertible.\n\t [[Node: model.build_likelihood/conditional/MatrixTriangularSolve = MatrixTriangularSolve[T=DT_DOUBLE, adjoint=false, lower=true, _device=\"/job:localhost/replica:0/task:0/cpu:0\"](model.build_likelihood/conditional/Cholesky, model.build_likelihood/conditional/model.kern.K/Add)]]\n\nCaused by op 'model.build_likelihood/conditional/MatrixTriangularSolve', defined at:\n  File \"/usr/lib/python3.5/runpy.py\", line 184, in _run_module_as_main\n    \"__main__\", mod_spec)\n  File \"/usr/lib/python3.5/runpy.py\", line 85, in _run_code\n    exec(code, run_globals)\n  File \"/home/adria/venv/lib/python3.5/site-packages/ipykernel_launcher.py\", line 16, in <module>\n    app.launch_new_instance()\n  File \"/home/adria/venv/lib/python3.5/site-packages/traitlets/config/application.py\", line 658, in launch_instance\n    app.start()\n  File \"/home/adria/venv/lib/python3.5/site-packages/ipykernel/kernelapp.py\", line 477, in start\n    ioloop.IOLoop.instance().start()\n  File \"/home/adria/venv/lib/python3.5/site-packages/zmq/eventloop/ioloop.py\", line 177, in start\n    super(ZMQIOLoop, self).start()\n  File \"/home/adria/venv/lib/python3.5/site-packages/tornado/ioloop.py\", line 888, in start\n    handler_func(fd_obj, events)\n  File \"/home/adria/venv/lib/python3.5/site-packages/tornado/stack_context.py\", line 277, in null_wrapper\n    return fn(*args, **kwargs)\n  File \"/home/adria/venv/lib/python3.5/site-packages/zmq/eventloop/zmqstream.py\", line 440, in _handle_events\n    self._handle_recv()\n  File \"/home/adria/venv/lib/python3.5/site-packages/zmq/eventloop/zmqstream.py\", line 472, in _handle_recv\n    self._run_callback(callback, msg)\n  File \"/home/adria/venv/lib/python3.5/site-packages/zmq/eventloop/zmqstream.py\", line 414, in _run_callback\n    callback(*args, **kwargs)\n  File \"/home/adria/venv/lib/python3.5/site-packages/tornado/stack_context.py\", line 277, in null_wrapper\n    return fn(*args, **kwargs)\n  File \"/home/adria/venv/lib/python3.5/site-packages/ipykernel/kernelbase.py\", line 283, in dispatcher\n    return self.dispatch_shell(stream, msg)\n  File \"/home/adria/venv/lib/python3.5/site-packages/ipykernel/kernelbase.py\", line 235, in dispatch_shell\n    handler(stream, idents, msg)\n  File \"/home/adria/venv/lib/python3.5/site-packages/ipykernel/kernelbase.py\", line 399, in execute_request\n    user_expressions, allow_stdin)\n  File \"/home/adria/venv/lib/python3.5/site-packages/ipykernel/ipkernel.py\", line 196, in do_execute\n    res = shell.run_cell(code, store_history=store_history, silent=silent)\n  File \"/home/adria/venv/lib/python3.5/site-packages/ipykernel/zmqshell.py\", line 533, in run_cell\n    return super(ZMQInteractiveShell, self).run_cell(*args, **kwargs)\n  File \"/home/adria/venv/lib/python3.5/site-packages/IPython/core/interactiveshell.py\", line 2698, in run_cell\n    interactivity=interactivity, compiler=compiler, result=result)\n  File \"/home/adria/venv/lib/python3.5/site-packages/IPython/core/interactiveshell.py\", line 2808, in run_ast_nodes\n    if self.run_code(code, result):\n  File \"/home/adria/venv/lib/python3.5/site-packages/IPython/core/interactiveshell.py\", line 2862, in run_code\n    exec(code_obj, self.user_global_ns, self.user_ns)\n  File \"<ipython-input-57-5b811c0d0a8d>\", line 7, in <module>\n    m.optimize(method=tf.train.AdamOptimizer(), callback=logger)\n  File \"/home/adria/venv/lib/python3.5/site-packages/GPflow/model.py\", line 225, in optimize\n    return self._optimize_tf(method, callback, maxiter, **kw)\n  File \"/home/adria/venv/lib/python3.5/site-packages/GPflow/model.py\", line 231, in _optimize_tf\n    opt_step = self._compile(optimizer=method)\n  File \"/home/adria/venv/lib/python3.5/site-packages/GPflow/model.py\", line 133, in _compile\n    f = self.build_likelihood() + self.build_prior()\n  File \"/home/adria/venv/lib/python3.5/site-packages/GPflow/scoping.py\", line 43, in runnable\n    return f(*args, **kwargs)\n  File \"/home/adria/venv/lib/python3.5/site-packages/GPflow/svgp.py\", line 104, in build_likelihood\n    fmean, fvar = self.build_predict(self.X, full_cov=False)\n  File \"/home/adria/venv/lib/python3.5/site-packages/GPflow/svgp.py\", line 117, in build_predict\n    q_sqrt=self.q_sqrt, full_cov=full_cov, whiten=self.whiten)\n  File \"/home/adria/venv/lib/python3.5/site-packages/GPflow/scoping.py\", line 43, in runnable\n    return f(*args, **kwargs)\n  File \"/home/adria/venv/lib/python3.5/site-packages/GPflow/conditionals.py\", line 70, in conditional\n    A = tf.matrix_triangular_solve(Lm, Kmn, lower=True)\n  File \"/home/adria/venv/lib/python3.5/site-packages/tensorflow/python/ops/gen_linalg_ops.py\", line 440, in matrix_triangular_solve\n    name=name)\n  File \"/home/adria/venv/lib/python3.5/site-packages/tensorflow/python/framework/op_def_library.py\", line 767, in apply_op\n    op_def=op_def)\n  File \"/home/adria/venv/lib/python3.5/site-packages/tensorflow/python/framework/ops.py\", line 2506, in create_op\n    original_op=self._default_original_op, op_def=op_def)\n  File \"/home/adria/venv/lib/python3.5/site-packages/tensorflow/python/framework/ops.py\", line 1269, in __init__\n    self._traceback = _extract_stack()\n\nInvalidArgumentError (see above for traceback): Input matrix is not invertible.\n\t [[Node: model.build_likelihood/conditional/MatrixTriangularSolve = MatrixTriangularSolve[T=DT_DOUBLE, adjoint=false, lower=true, _device=\"/job:localhost/replica:0/task:0/cpu:0\"](model.build_likelihood/conditional/Cholesky, model.build_likelihood/conditional/model.kern.K/Add)]]\n"
     ]
    }
   ],
   "source": [
    "def logger(x):\n",
    "    if (logger.i % 10) == 0:\n",
    "        print(x, m._objective(x)[0])\n",
    "    logger.i+=1\n",
    "logger.i = 0\n",
    "\n",
    "m.optimize(method=tf.train.AdamOptimizer(), callback=logger)"
   ]
  },
  {
   "cell_type": "code",
   "execution_count": 27,
   "metadata": {
    "collapsed": true
   },
   "outputs": [],
   "source": [
    "y_ = m.predict_f(X[test_mask])"
   ]
  },
  {
   "cell_type": "code",
   "execution_count": 28,
   "metadata": {},
   "outputs": [
    {
     "data": {
      "text/plain": [
       "(array([[ nan,  nan,  nan, ...,  nan,  nan,  nan],\n",
       "        [ nan,  nan,  nan, ...,  nan,  nan,  nan],\n",
       "        [ nan,  nan,  nan, ...,  nan,  nan,  nan],\n",
       "        ..., \n",
       "        [ nan,  nan,  nan, ...,  nan,  nan,  nan],\n",
       "        [ nan,  nan,  nan, ...,  nan,  nan,  nan],\n",
       "        [ nan,  nan,  nan, ...,  nan,  nan,  nan]]),\n",
       " array([[ nan,  nan,  nan, ...,  nan,  nan,  nan],\n",
       "        [ nan,  nan,  nan, ...,  nan,  nan,  nan],\n",
       "        [ nan,  nan,  nan, ...,  nan,  nan,  nan],\n",
       "        ..., \n",
       "        [ nan,  nan,  nan, ...,  nan,  nan,  nan],\n",
       "        [ nan,  nan,  nan, ...,  nan,  nan,  nan],\n",
       "        [ nan,  nan,  nan, ...,  nan,  nan,  nan]]))"
      ]
     },
     "execution_count": 28,
     "metadata": {},
     "output_type": "execute_result"
    }
   ],
   "source": [
    "y_"
   ]
  }
 ],
 "metadata": {
  "kernelspec": {
   "display_name": "Python 3",
   "language": "python",
   "name": "python3"
  },
  "language_info": {
   "codemirror_mode": {
    "name": "ipython",
    "version": 3
   },
   "file_extension": ".py",
   "mimetype": "text/x-python",
   "name": "python",
   "nbconvert_exporter": "python",
   "pygments_lexer": "ipython3",
   "version": "3.5.2"
  }
 },
 "nbformat": 4,
 "nbformat_minor": 2
}
