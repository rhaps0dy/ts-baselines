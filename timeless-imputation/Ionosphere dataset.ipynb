{
 "cells": [
  {
   "cell_type": "code",
   "execution_count": 1,
   "metadata": {
    "collapsed": true
   },
   "outputs": [],
   "source": [
    "%load_ext rpy2.ipython"
   ]
  },
  {
   "cell_type": "code",
   "execution_count": null,
   "metadata": {
    "collapsed": true
   },
   "outputs": [],
   "source": [
    "import pandas as pd\n",
    "import numpy as np\n",
    "import pickle_utils as pu\n",
    "%R library(\"ggplot2\")\n",
    "%R install.packages(\"mice\")\n",
    "%R library(\"mice\")\n",
    "%R install.packages(\"lattice\")\n",
    "%R library(\"lattice\")\n",
    "%R install.packages(\"VIM\")\n",
    "%R library(\"VIM\")\n",
    "%R install.packages(\"missForest\")\n",
    "%R library(\"missForest\")\n",
    "%R install.packages(\"doParallel\")\n",
    "%R library(\"doParallel\")\n",
    "%R install.packages(\"foreach\")\n",
    "%R library(\"foreach\")\n",
    "%R install.packages(\"mlbench\")\n",
    "%R library(\"mlbench\")\n",
    "\n",
    "from rpy2.ipython.rmagic import converter\n",
    "\n",
    "NUMBER_IMPUTATIONS = 5"
   ]
  },
  {
   "cell_type": "markdown",
   "metadata": {},
   "source": [
    "# Functions"
   ]
  },
  {
   "cell_type": "code",
   "execution_count": 134,
   "metadata": {
    "collapsed": true
   },
   "outputs": [],
   "source": [
    "def normalise(dataset):\n",
    "    \"Normalise dataset to be between 0 and 1\"\n",
    "    dataset -= dataset.min()\n",
    "    dataset /= dataset.max()\n",
    "    return dataset\n",
    "\n",
    "def make_random_missing(dataset_):\n",
    "    \"Make dataset miss at random as described in paper\"\n",
    "    dataset = dataset_.copy()\n",
    "    missing = np.random.rand(len(dataset)) < 0.2\n",
    "    for i in np.nonzero(missing)[0]:\n",
    "        r = np.arange(dataset.shape[1])\n",
    "        np.random.shuffle(r)\n",
    "        dataset.values[i,r[:(r.shape[0]//2)]] = np.nan\n",
    "    return dataset\n",
    "\n",
    "def rmse_sum(missing_df, full_df, imputed_dfs):\n",
    "    mask_missing = np.isnan(missing_df.values)\n",
    "    original_df = full_df.values\n",
    "    multiple_imputed_df = list((df.values if hasattr(df, 'values') else df) for df in imputed_dfs)\n",
    "    print(original_df.shape, multiple_imputed_df[0].shape)\n",
    "    \"RMSE_sum as in Multiple Imputation Using Deep Denoising Autoencoders (Gondara & Wang 2017)\"\n",
    "    assert original_df.shape == multiple_imputed_df[0].shape, \"data set shape not matching\"\n",
    "    sq_diff = (original_df-multiple_imputed_df)**2\n",
    "    sq_diff[:,~mask_missing] = 0\n",
    "    per_attribute_rmse = np.mean(np.sum(sq_diff, axis=1), axis=0)**.5\n",
    "    assert per_attribute_rmse.shape == (original_df.shape[1],)\n",
    "    return np.sum(per_attribute_rmse)"
   ]
  },
  {
   "cell_type": "markdown",
   "metadata": {},
   "source": [
    "# Load and ampute dataset"
   ]
  },
  {
   "cell_type": "code",
   "execution_count": 107,
   "metadata": {
    "collapsed": true
   },
   "outputs": [],
   "source": [
    "%%R -o dataset\n",
    "data(Ionosphere)\n",
    "#data(BostonHousing2)\n",
    "#data(BreastCancer)\n",
    "#datasets <- list(as.data.frame(BostonHousing2), as.data.frame(BreastCancer), as.data.frame(Ionosphere))\n",
    "dataset <- as.data.frame(Ionosphere)"
   ]
  },
  {
   "cell_type": "code",
   "execution_count": null,
   "metadata": {
    "collapsed": true
   },
   "outputs": [],
   "source": [
    "#dataset = list(map(converter.ri2py, datasets))[2]"
   ]
  },
  {
   "cell_type": "code",
   "execution_count": 115,
   "metadata": {
    "collapsed": true
   },
   "outputs": [],
   "source": [
    "full_df = normalise(dataset.drop(\"Class\", axis=1).drop(\"V2\", axis=1).applymap(float))\n",
    "missing_df = make_random_missing(full_df)"
   ]
  },
  {
   "cell_type": "markdown",
   "metadata": {},
   "source": [
    "# MICE imputation"
   ]
  },
  {
   "cell_type": "code",
   "execution_count": null,
   "metadata": {
    "collapsed": true,
    "scrolled": false
   },
   "outputs": [],
   "source": [
    "%%R -i missing_df -i NUMBER_IMPUTATIONS -o mice_imputed_df_list\n",
    "mice_imputed_object <- mice(missing_df, m=NUMBER_IMPUTATIONS, maxit=50, meth='pmm', seed=500)\n",
    "mice_imputed_df_list = lapply(1:NUMBER_IMPUTATIONS, function(v) return(complete(mice_imputed_object, v)))"
   ]
  },
  {
   "cell_type": "code",
   "execution_count": 112,
   "metadata": {
    "scrolled": true
   },
   "outputs": [
    {
     "data": {
      "text/plain": [
       "52.614553029623565"
      ]
     },
     "execution_count": 112,
     "metadata": {},
     "output_type": "execute_result"
    }
   ],
   "source": [
    "mice_imputed_dfs = list(converter.ri2py(df) for df in mice_imputed_df_list)\n",
    "rmse_sum(missing_df, full_df, mice_imputed_dfs)"
   ]
  },
  {
   "cell_type": "markdown",
   "metadata": {},
   "source": [
    "# MissForest imputation"
   ]
  },
  {
   "cell_type": "code",
   "execution_count": null,
   "metadata": {
    "collapsed": true,
    "scrolled": false
   },
   "outputs": [],
   "source": [
    "%%R -o missforest_imputed_df\n",
    "mice_imputed_object <- mice(missing_df, m=NUMBER_IMPUTATIONS, maxit=50, meth='pmm', seed=500)\n",
    "mice_imputed_df_list = lapply(1:NUMBER_IMPUTATIONS, function(v) return(complete(mice_imputed_object, v)))"
   ]
  },
  {
   "cell_type": "code",
   "execution_count": 112,
   "metadata": {
    "scrolled": true
   },
   "outputs": [
    {
     "data": {
      "text/plain": [
       "52.614553029623565"
      ]
     },
     "execution_count": 112,
     "metadata": {},
     "output_type": "execute_result"
    }
   ],
   "source": [
    "rmse_sum(missing_df, full_df, [missforest_imputed_df])"
   ]
  },
  {
   "cell_type": "markdown",
   "metadata": {},
   "source": [
    "# Deep Denoising Autoencoder imputation"
   ]
  },
  {
   "cell_type": "code",
   "execution_count": 131,
   "metadata": {
    "collapsed": true
   },
   "outputs": [],
   "source": [
    "pu.dump((np.isnan(missing_df.values), full_df.values), \"datasets/ionosphere.pkl.gz\")"
   ]
  },
  {
   "cell_type": "code",
   "execution_count": 161,
   "metadata": {},
   "outputs": [
    {
     "name": "stdout",
     "output_type": "stream",
     "text": [
      "(351, 33) (351, 33)\n"
     ]
    },
    {
     "data": {
      "text/plain": [
       "130.51970446672618"
      ]
     },
     "execution_count": 161,
     "metadata": {},
     "output_type": "execute_result"
    }
   ],
   "source": [
    "nn_imputed_data = pu.load(\"vae_iterate.pkl.gz\")\n",
    "rmse_sum(missing_df, full_df, nn_imputed_data)"
   ]
  }
 ],
 "metadata": {
  "kernelspec": {
   "display_name": "Python 3",
   "language": "python",
   "name": "python3"
  },
  "language_info": {
   "codemirror_mode": {
    "name": "ipython",
    "version": 3
   },
   "file_extension": ".py",
   "mimetype": "text/x-python",
   "name": "python",
   "nbconvert_exporter": "python",
   "pygments_lexer": "ipython3",
   "version": "3.5.2"
  }
 },
 "nbformat": 4,
 "nbformat_minor": 2
}
