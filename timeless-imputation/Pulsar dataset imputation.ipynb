{
 "cells": [
  {
   "cell_type": "code",
   "execution_count": 1,
   "metadata": {
    "collapsed": true
   },
   "outputs": [],
   "source": [
    "%load_ext rpy2.ipython"
   ]
  },
  {
   "cell_type": "code",
   "execution_count": 2,
   "metadata": {
    "scrolled": true
   },
   "outputs": [
    {
     "name": "stderr",
     "output_type": "stream",
     "text": [
      "/home/adria/venv/lib/python3.5/site-packages/rpy2/rinterface/__init__.py:186: RRuntimeWarning: Installing package into ‘/home/adria/R/x86_64-pc-linux-gnu-library/3.4’\n",
      "(as ‘lib’ is unspecified)\n",
      "\n",
      "  warnings.warn(x, RRuntimeWarning)\n",
      "/home/adria/venv/lib/python3.5/site-packages/rpy2/rinterface/__init__.py:186: RRuntimeWarning: trying URL 'https://mirror.las.iastate.edu/CRAN/src/contrib/mice_2.30.tar.gz'\n",
      "\n",
      "  warnings.warn(x, RRuntimeWarning)\n",
      "/home/adria/venv/lib/python3.5/site-packages/rpy2/rinterface/__init__.py:186: RRuntimeWarning: Content type 'application/x-gzip'\n",
      "  warnings.warn(x, RRuntimeWarning)\n",
      "/home/adria/venv/lib/python3.5/site-packages/rpy2/rinterface/__init__.py:186: RRuntimeWarning:  length 648634 bytes (633 KB)\n",
      "\n",
      "  warnings.warn(x, RRuntimeWarning)\n",
      "/home/adria/venv/lib/python3.5/site-packages/rpy2/rinterface/__init__.py:186: RRuntimeWarning: =\n",
      "  warnings.warn(x, RRuntimeWarning)\n",
      "/home/adria/venv/lib/python3.5/site-packages/rpy2/rinterface/__init__.py:186: RRuntimeWarning: \n",
      "\n",
      "  warnings.warn(x, RRuntimeWarning)\n",
      "/home/adria/venv/lib/python3.5/site-packages/rpy2/rinterface/__init__.py:186: RRuntimeWarning: downloaded 633 KB\n",
      "\n",
      "\n",
      "  warnings.warn(x, RRuntimeWarning)\n",
      "/home/adria/venv/lib/python3.5/site-packages/rpy2/rinterface/__init__.py:186: RRuntimeWarning: \n",
      "  warnings.warn(x, RRuntimeWarning)\n",
      "/home/adria/venv/lib/python3.5/site-packages/rpy2/rinterface/__init__.py:186: RRuntimeWarning: The downloaded source packages are in\n",
      "\t‘/tmp/RtmpHdIKb9/downloaded_packages’\n",
      "  warnings.warn(x, RRuntimeWarning)\n",
      "/home/adria/venv/lib/python3.5/site-packages/rpy2/rinterface/__init__.py:186: RRuntimeWarning: trying URL 'https://mirror.las.iastate.edu/CRAN/src/contrib/lattice_0.20-35.tar.gz'\n",
      "\n",
      "  warnings.warn(x, RRuntimeWarning)\n",
      "/home/adria/venv/lib/python3.5/site-packages/rpy2/rinterface/__init__.py:186: RRuntimeWarning:  length 359813 bytes (351 KB)\n",
      "\n",
      "  warnings.warn(x, RRuntimeWarning)\n",
      "/home/adria/venv/lib/python3.5/site-packages/rpy2/rinterface/__init__.py:186: RRuntimeWarning: downloaded 351 KB\n",
      "\n",
      "\n",
      "  warnings.warn(x, RRuntimeWarning)\n",
      "/home/adria/venv/lib/python3.5/site-packages/rpy2/rinterface/__init__.py:186: RRuntimeWarning: trying URL 'https://mirror.las.iastate.edu/CRAN/src/contrib/VIM_4.7.0.tar.gz'\n",
      "\n",
      "  warnings.warn(x, RRuntimeWarning)\n",
      "/home/adria/venv/lib/python3.5/site-packages/rpy2/rinterface/__init__.py:186: RRuntimeWarning:  length 330025 bytes (322 KB)\n",
      "\n",
      "  warnings.warn(x, RRuntimeWarning)\n",
      "/home/adria/venv/lib/python3.5/site-packages/rpy2/rinterface/__init__.py:186: RRuntimeWarning: downloaded 322 KB\n",
      "\n",
      "\n",
      "  warnings.warn(x, RRuntimeWarning)\n",
      "/home/adria/venv/lib/python3.5/site-packages/rpy2/rinterface/__init__.py:186: RRuntimeWarning: Loading required package: colorspace\n",
      "\n",
      "  warnings.warn(x, RRuntimeWarning)\n",
      "/home/adria/venv/lib/python3.5/site-packages/rpy2/rinterface/__init__.py:186: RRuntimeWarning: Loading required package: grid\n",
      "\n",
      "  warnings.warn(x, RRuntimeWarning)\n",
      "/home/adria/venv/lib/python3.5/site-packages/rpy2/rinterface/__init__.py:186: RRuntimeWarning: Loading required package: data.table\n",
      "\n",
      "  warnings.warn(x, RRuntimeWarning)\n",
      "/home/adria/venv/lib/python3.5/site-packages/rpy2/rinterface/__init__.py:186: RRuntimeWarning: data.table 1.10.4\n",
      "\n",
      "  warnings.warn(x, RRuntimeWarning)\n",
      "/home/adria/venv/lib/python3.5/site-packages/rpy2/rinterface/__init__.py:186: RRuntimeWarning:   The fastest way to learn (by data.table authors): https://www.datacamp.com/courses/data-analysis-the-data-table-way\n",
      "\n",
      "  warnings.warn(x, RRuntimeWarning)\n",
      "/home/adria/venv/lib/python3.5/site-packages/rpy2/rinterface/__init__.py:186: RRuntimeWarning:   Documentation: ?data.table, example(data.table) and browseVignettes(\"data.table\")\n",
      "\n",
      "  warnings.warn(x, RRuntimeWarning)\n",
      "/home/adria/venv/lib/python3.5/site-packages/rpy2/rinterface/__init__.py:186: RRuntimeWarning:   Release notes, videos and slides: http://r-datatable.com\n",
      "\n",
      "  warnings.warn(x, RRuntimeWarning)\n",
      "/home/adria/venv/lib/python3.5/site-packages/rpy2/rinterface/__init__.py:186: RRuntimeWarning: VIM is ready to use. \n",
      " Since version 4.0.0 the GUI is in its own package VIMGUI.\n",
      "\n",
      "          Please use the package to use the new (and old) GUI.\n",
      "\n",
      "\n",
      "  warnings.warn(x, RRuntimeWarning)\n",
      "/home/adria/venv/lib/python3.5/site-packages/rpy2/rinterface/__init__.py:186: RRuntimeWarning: Suggestions and bug-reports can be submitted at: https://github.com/alexkowa/VIM/issues\n",
      "\n",
      "  warnings.warn(x, RRuntimeWarning)\n",
      "/home/adria/venv/lib/python3.5/site-packages/rpy2/rinterface/__init__.py:186: RRuntimeWarning: \n",
      "Attaching package: ‘VIM’\n",
      "\n",
      "\n",
      "  warnings.warn(x, RRuntimeWarning)\n",
      "/home/adria/venv/lib/python3.5/site-packages/rpy2/rinterface/__init__.py:186: RRuntimeWarning: The following object is masked from ‘package:datasets’:\n",
      "\n",
      "    sleep\n",
      "\n",
      "\n",
      "  warnings.warn(x, RRuntimeWarning)\n",
      "/home/adria/venv/lib/python3.5/site-packages/rpy2/rinterface/__init__.py:186: RRuntimeWarning: trying URL 'https://mirror.las.iastate.edu/CRAN/src/contrib/missForest_1.4.tar.gz'\n",
      "\n",
      "  warnings.warn(x, RRuntimeWarning)\n",
      "/home/adria/venv/lib/python3.5/site-packages/rpy2/rinterface/__init__.py:186: RRuntimeWarning:  length 11376 bytes (11 KB)\n",
      "\n",
      "  warnings.warn(x, RRuntimeWarning)\n",
      "/home/adria/venv/lib/python3.5/site-packages/rpy2/rinterface/__init__.py:186: RRuntimeWarning: downloaded 11 KB\n",
      "\n",
      "\n",
      "  warnings.warn(x, RRuntimeWarning)\n",
      "/home/adria/venv/lib/python3.5/site-packages/rpy2/rinterface/__init__.py:186: RRuntimeWarning: Loading required package: randomForest\n",
      "\n",
      "  warnings.warn(x, RRuntimeWarning)\n",
      "/home/adria/venv/lib/python3.5/site-packages/rpy2/rinterface/__init__.py:186: RRuntimeWarning: randomForest 4.6-12\n",
      "\n",
      "  warnings.warn(x, RRuntimeWarning)\n",
      "/home/adria/venv/lib/python3.5/site-packages/rpy2/rinterface/__init__.py:186: RRuntimeWarning: Type rfNews() to see new features/changes/bug fixes.\n",
      "\n",
      "  warnings.warn(x, RRuntimeWarning)\n",
      "/home/adria/venv/lib/python3.5/site-packages/rpy2/rinterface/__init__.py:186: RRuntimeWarning: \n",
      "Attaching package: ‘randomForest’\n",
      "\n",
      "\n",
      "  warnings.warn(x, RRuntimeWarning)\n",
      "/home/adria/venv/lib/python3.5/site-packages/rpy2/rinterface/__init__.py:186: RRuntimeWarning: The following object is masked from ‘package:ggplot2’:\n",
      "\n",
      "    margin\n",
      "\n",
      "\n",
      "  warnings.warn(x, RRuntimeWarning)\n",
      "/home/adria/venv/lib/python3.5/site-packages/rpy2/rinterface/__init__.py:186: RRuntimeWarning: Loading required package: foreach\n",
      "\n",
      "  warnings.warn(x, RRuntimeWarning)\n",
      "/home/adria/venv/lib/python3.5/site-packages/rpy2/rinterface/__init__.py:186: RRuntimeWarning: foreach: simple, scalable parallel programming from Revolution Analytics\n",
      "Use Revolution R for scalability, fault tolerance and more.\n",
      "http://www.revolutionanalytics.com\n",
      "\n",
      "  warnings.warn(x, RRuntimeWarning)\n",
      "/home/adria/venv/lib/python3.5/site-packages/rpy2/rinterface/__init__.py:186: RRuntimeWarning: Loading required package: itertools\n",
      "\n",
      "  warnings.warn(x, RRuntimeWarning)\n",
      "/home/adria/venv/lib/python3.5/site-packages/rpy2/rinterface/__init__.py:186: RRuntimeWarning: Loading required package: iterators\n",
      "\n",
      "  warnings.warn(x, RRuntimeWarning)\n",
      "/home/adria/venv/lib/python3.5/site-packages/rpy2/rinterface/__init__.py:186: RRuntimeWarning: trying URL 'https://mirror.las.iastate.edu/CRAN/src/contrib/doParallel_1.0.10.tar.gz'\n",
      "\n",
      "  warnings.warn(x, RRuntimeWarning)\n",
      "/home/adria/venv/lib/python3.5/site-packages/rpy2/rinterface/__init__.py:186: RRuntimeWarning:  length 173022 bytes (168 KB)\n",
      "\n",
      "  warnings.warn(x, RRuntimeWarning)\n",
      "/home/adria/venv/lib/python3.5/site-packages/rpy2/rinterface/__init__.py:186: RRuntimeWarning: downloaded 168 KB\n",
      "\n",
      "\n",
      "  warnings.warn(x, RRuntimeWarning)\n",
      "/home/adria/venv/lib/python3.5/site-packages/rpy2/rinterface/__init__.py:186: RRuntimeWarning: Loading required package: parallel\n",
      "\n",
      "  warnings.warn(x, RRuntimeWarning)\n",
      "/home/adria/venv/lib/python3.5/site-packages/rpy2/rinterface/__init__.py:186: RRuntimeWarning: trying URL 'https://mirror.las.iastate.edu/CRAN/src/contrib/foreach_1.4.3.tar.gz'\n",
      "\n",
      "  warnings.warn(x, RRuntimeWarning)\n",
      "/home/adria/venv/lib/python3.5/site-packages/rpy2/rinterface/__init__.py:186: RRuntimeWarning:  length 359787 bytes (351 KB)\n",
      "\n",
      "  warnings.warn(x, RRuntimeWarning)\n"
     ]
    }
   ],
   "source": [
    "import pandas as pd\n",
    "import numpy as np\n",
    "import pickle_utils as pu\n",
    "%R library(\"ggplot2\")\n",
    "%R install.packages(\"mice\")\n",
    "%R library(\"mice\")\n",
    "%R install.packages(\"lattice\")\n",
    "%R library(\"lattice\")\n",
    "%R install.packages(\"VIM\")\n",
    "%R library(\"VIM\")\n",
    "%R install.packages(\"missForest\")\n",
    "%R library(\"missForest\")\n",
    "%R install.packages(\"doParallel\")\n",
    "%R library(\"doParallel\")\n",
    "%R install.packages(\"foreach\")\n",
    "%R library(\"foreach\")\n",
    "\n",
    "from rpy2.ipython.rmagic import converter\n",
    "\n",
    "NUMBER_IMPUTATIONS = 5"
   ]
  },
  {
   "cell_type": "code",
   "execution_count": 3,
   "metadata": {},
   "outputs": [
    {
     "data": {
      "text/plain": [
       "R object with classes: ('function',) mapped to:\n",
       "<SignatureTranslatedFunction - Python:0x7ff0cdd6c8c8 / R:0xbec6b38>"
      ]
     },
     "execution_count": 3,
     "metadata": {},
     "output_type": "execute_result"
    }
   ],
   "source": [
    "# Register parallel backend\n",
    "%R registerDoParallel(makeCluster(8))"
   ]
  },
  {
   "cell_type": "code",
   "execution_count": 3,
   "metadata": {},
   "outputs": [
    {
     "name": "stdout",
     "output_type": "stream",
     "text": [
      "number of data points: 17898\n"
     ]
    }
   ],
   "source": [
    "table_headers = [\"mean_profile\", \"std_profile\", \"kurt_profile\", \"skew_profile\", \"mean_dm_snr\", \"std_dm_snr\", \"kurt_dm_snr\", \"skew_dm_snr\", \"label\"]\n",
    "table_dtypes = dict((h, np.float) for h in table_headers)\n",
    "table_dtypes['label'] = np.bool\n",
    "original_df = pd.read_csv(\"HTRU_2.csv\", header=None,\n",
    "                 names=table_headers,\n",
    "                 dtype=table_dtypes).drop(\"label\", axis=1)\n",
    "print(\"number of data points:\", original_df.shape[0])\n",
    "\n",
    "def gondara_rmse_sum(mask_missing, original_df, multiple_imputed_df):\n",
    "    \"RMSE_sum as in Multiple Imputation Using Deep Denoising Autoencoders (Gondara & Wang 2017)\"\n",
    "    assert original_df.shape == multiple_imputed_df[0].shape, \"data set shape not matching\"\n",
    "    sq_diff = (original_df-multiple_imputed_df)**2\n",
    "    sq_diff[:,~mask_missing] = 0\n",
    "    per_attribute_rmse = np.mean(np.sum(sq_diff, axis=1), axis=0)**.5\n",
    "    assert per_attribute_rmse.shape == (original_df.shape[1],)\n",
    "    return np.sum(per_attribute_rmse)"
   ]
  },
  {
   "cell_type": "code",
   "execution_count": null,
   "metadata": {
    "collapsed": true
   },
   "outputs": [],
   "source": []
  },
  {
   "cell_type": "code",
   "execution_count": 4,
   "metadata": {
    "collapsed": true
   },
   "outputs": [],
   "source": [
    "def rmse_sum(mask_missing, original_df, multiple_imputed_df):\n",
    "    assert original_df.shape == multiple_imputed_df[0].shape, \"data set shape not matching\"\n",
    "    sq_diff = (original_df-multiple_imputed_df)**2\n",
    "    mse = np.sum(sq_diff*mask_missing)/np.sum(mask_missing)\n",
    "    return mse**.5"
   ]
  },
  {
   "cell_type": "markdown",
   "metadata": {},
   "source": [
    "# Ampute data set and normalise\n",
    "That is, introduce missing values into it"
   ]
  },
  {
   "cell_type": "code",
   "execution_count": 5,
   "metadata": {
    "collapsed": true,
    "scrolled": true
   },
   "outputs": [],
   "source": [
    "def make_random_missing(dataset_):\n",
    "    \"Make dataset miss at random as described in paper\"\n",
    "    dataset = dataset_.copy()\n",
    "    missing = np.random.rand(len(dataset)) < 0.2\n",
    "    for i in np.nonzero(missing)[0]:\n",
    "        r = np.arange(dataset.shape[1])\n",
    "        np.random.shuffle(r)\n",
    "        dataset.values[i,r[:(r.shape[0]//2)]] = np.nan\n",
    "    return dataset"
   ]
  },
  {
   "cell_type": "code",
   "execution_count": 6,
   "metadata": {
    "collapsed": true
   },
   "outputs": [],
   "source": [
    "missing_df = make_random_missing(original_df)\n",
    "# Normalise dataset with only the missing data\n",
    "normalise_mean = missing_df.mean()\n",
    "normalise_std = missing_df.std()\n",
    "missing_df = (missing_df - normalise_mean) / normalise_std\n",
    "original_df = (original_df - normalise_mean) / normalise_std\n",
    "assert not np.any(np.isnan(original_df.values)), \"Not enough non-NaN values\""
   ]
  },
  {
   "cell_type": "markdown",
   "metadata": {},
   "source": [
    "# Impute using MICE"
   ]
  },
  {
   "cell_type": "code",
   "execution_count": 29,
   "metadata": {},
   "outputs": [
    {
     "data": {
      "text/plain": [
       "\n",
       " iter imp variable\n",
       "  1   1  mean_profile  std_profile  kurt_profile  skew_profile  mean_dm_snr  std_dm_snr  kurt_dm_snr  skew_dm_snr\n",
       "  1   2  mean_profile  std_profile  kurt_profile  skew_profile  mean_dm_snr  std_dm_snr  kurt_dm_snr  skew_dm_snr\n",
       "  1   3  mean_profile  std_profile  kurt_profile  skew_profile  mean_dm_snr  std_dm_snr  kurt_dm_snr  skew_dm_snr\n",
       "  1   4  mean_profile  std_profile  kurt_profile  skew_profile  mean_dm_snr  std_dm_snr  kurt_dm_snr  skew_dm_snr\n",
       "  1   5  mean_profile  std_profile  kurt_profile  skew_profile  mean_dm_snr  std_dm_snr  kurt_dm_snr  skew_dm_snr\n",
       "  2   1  mean_profile  std_profile  kurt_profile  skew_profile  mean_dm_snr  std_dm_snr  kurt_dm_snr  skew_dm_snr\n",
       "  2   2  mean_profile  std_profile  kurt_profile  skew_profile  mean_dm_snr  std_dm_snr  kurt_dm_snr  skew_dm_snr\n",
       "  2   3  mean_profile  std_profile  kurt_profile  skew_profile  mean_dm_snr  std_dm_snr  kurt_dm_snr  skew_dm_snr\n",
       "  2   4  mean_profile  std_profile  kurt_profile  skew_profile  mean_dm_snr  std_dm_snr  kurt_dm_snr  skew_dm_snr\n",
       "  2   5  mean_profile  std_profile  kurt_profile  skew_profile  mean_dm_snr  std_dm_snr  kurt_dm_snr  skew_dm_snr\n",
       "  3   1  mean_profile  std_profile  kurt_profile  skew_profile  mean_dm_snr  std_dm_snr  kurt_dm_snr  skew_dm_snr\n",
       "  3   2  mean_profile  std_profile  kurt_profile  skew_profile  mean_dm_snr  std_dm_snr  kurt_dm_snr  skew_dm_snr\n",
       "  3   3  mean_profile  std_profile  kurt_profile  skew_profile  mean_dm_snr  std_dm_snr  kurt_dm_snr  skew_dm_snr\n",
       "  3   4  mean_profile  std_profile  kurt_profile  skew_profile  mean_dm_snr  std_dm_snr  kurt_dm_snr  skew_dm_snr\n",
       "  3   5  mean_profile  std_profile  kurt_profile  skew_profile  mean_dm_snr  std_dm_snr  kurt_dm_snr  skew_dm_snr\n",
       "  4   1  mean_profile  std_profile  kurt_profile  skew_profile  mean_dm_snr  std_dm_snr  kurt_dm_snr  skew_dm_snr\n",
       "  4   2  mean_profile  std_profile  kurt_profile  skew_profile  mean_dm_snr  std_dm_snr  kurt_dm_snr  skew_dm_snr\n",
       "  4   3  mean_profile  std_profile  kurt_profile  skew_profile  mean_dm_snr  std_dm_snr  kurt_dm_snr  skew_dm_snr\n",
       "  4   4  mean_profile  std_profile  kurt_profile  skew_profile  mean_dm_snr  std_dm_snr  kurt_dm_snr  skew_dm_snr\n",
       "  4   5  mean_profile  std_profile  kurt_profile  skew_profile  mean_dm_snr  std_dm_snr  kurt_dm_snr  skew_dm_snr\n",
       "  5   1  mean_profile  std_profile  kurt_profile  skew_profile  mean_dm_snr  std_dm_snr  kurt_dm_snr  skew_dm_snr\n",
       "  5   2  mean_profile  std_profile  kurt_profile  skew_profile  mean_dm_snr  std_dm_snr  kurt_dm_snr  skew_dm_snr\n",
       "  5   3  mean_profile  std_profile  kurt_profile  skew_profile  mean_dm_snr  std_dm_snr  kurt_dm_snr  skew_dm_snr\n",
       "  5   4  mean_profile  std_profile  kurt_profile  skew_profile  mean_dm_snr  std_dm_snr  kurt_dm_snr  skew_dm_snr\n",
       "  5   5  mean_profile  std_profile  kurt_profile  skew_profile  mean_dm_snr  std_dm_snr  kurt_dm_snr  skew_dm_snr\n",
       "  6   1  mean_profile  std_profile  kurt_profile  skew_profile  mean_dm_snr  std_dm_snr  kurt_dm_snr  skew_dm_snr\n",
       "  6   2  mean_profile  std_profile  kurt_profile  skew_profile  mean_dm_snr  std_dm_snr  kurt_dm_snr  skew_dm_snr\n",
       "  6   3  mean_profile  std_profile  kurt_profile  skew_profile  mean_dm_snr  std_dm_snr  kurt_dm_snr  skew_dm_snr\n",
       "  6   4  mean_profile  std_profile  kurt_profile  skew_profile  mean_dm_snr  std_dm_snr  kurt_dm_snr  skew_dm_snr\n",
       "  6   5  mean_profile  std_profile  kurt_profile  skew_profile  mean_dm_snr  std_dm_snr  kurt_dm_snr  skew_dm_snr\n",
       "  7   1  mean_profile  std_profile  kurt_profile  skew_profile  mean_dm_snr  std_dm_snr  kurt_dm_snr  skew_dm_snr\n",
       "  7   2  mean_profile  std_profile  kurt_profile  skew_profile  mean_dm_snr  std_dm_snr  kurt_dm_snr  skew_dm_snr\n",
       "  7   3  mean_profile  std_profile  kurt_profile  skew_profile  mean_dm_snr  std_dm_snr  kurt_dm_snr  skew_dm_snr\n",
       "  7   4  mean_profile  std_profile  kurt_profile  skew_profile  mean_dm_snr  std_dm_snr  kurt_dm_snr  skew_dm_snr\n",
       "  7   5  mean_profile  std_profile  kurt_profile  skew_profile  mean_dm_snr  std_dm_snr  kurt_dm_snr  skew_dm_snr\n",
       "  8   1  mean_profile  std_profile  kurt_profile  skew_profile  mean_dm_snr  std_dm_snr  kurt_dm_snr  skew_dm_snr\n",
       "  8   2  mean_profile  std_profile  kurt_profile  skew_profile  mean_dm_snr  std_dm_snr  kurt_dm_snr  skew_dm_snr\n",
       "  8   3  mean_profile  std_profile  kurt_profile  skew_profile  mean_dm_snr  std_dm_snr  kurt_dm_snr  skew_dm_snr\n",
       "  8   4  mean_profile  std_profile  kurt_profile  skew_profile  mean_dm_snr  std_dm_snr  kurt_dm_snr  skew_dm_snr\n",
       "  8   5  mean_profile  std_profile  kurt_profile  skew_profile  mean_dm_snr  std_dm_snr  kurt_dm_snr  skew_dm_snr\n",
       "  9   1  mean_profile  std_profile  kurt_profile  skew_profile  mean_dm_snr  std_dm_snr  kurt_dm_snr  skew_dm_snr\n",
       "  9   2  mean_profile  std_profile  kurt_profile  skew_profile  mean_dm_snr  std_dm_snr  kurt_dm_snr  skew_dm_snr\n",
       "  9   3  mean_profile  std_profile  kurt_profile  skew_profile  mean_dm_snr  std_dm_snr  kurt_dm_snr  skew_dm_snr\n",
       "  9   4  mean_profile  std_profile  kurt_profile  skew_profile  mean_dm_snr  std_dm_snr  kurt_dm_snr  skew_dm_snr\n",
       "  9   5  mean_profile  std_profile  kurt_profile  skew_profile  mean_dm_snr  std_dm_snr  kurt_dm_snr  skew_dm_snr\n",
       "  10   1  mean_profile  std_profile  kurt_profile  skew_profile  mean_dm_snr  std_dm_snr  kurt_dm_snr  skew_dm_snr\n",
       "  10   2  mean_profile  std_profile  kurt_profile  skew_profile  mean_dm_snr  std_dm_snr  kurt_dm_snr  skew_dm_snr\n",
       "  10   3  mean_profile  std_profile  kurt_profile  skew_profile  mean_dm_snr  std_dm_snr  kurt_dm_snr  skew_dm_snr\n",
       "  10   4  mean_profile  std_profile  kurt_profile  skew_profile  mean_dm_snr  std_dm_snr  kurt_dm_snr  skew_dm_snr\n",
       "  10   5  mean_profile  std_profile  kurt_profile  skew_profile  mean_dm_snr  std_dm_snr  kurt_dm_snr  skew_dm_snr\n",
       "  11   1  mean_profile  std_profile  kurt_profile  skew_profile  mean_dm_snr  std_dm_snr  kurt_dm_snr  skew_dm_snr\n",
       "  11   2  mean_profile  std_profile  kurt_profile  skew_profile  mean_dm_snr  std_dm_snr  kurt_dm_snr  skew_dm_snr\n",
       "  11   3  mean_profile  std_profile  kurt_profile  skew_profile  mean_dm_snr  std_dm_snr  kurt_dm_snr  skew_dm_snr\n",
       "  11   4  mean_profile  std_profile  kurt_profile  skew_profile  mean_dm_snr  std_dm_snr  kurt_dm_snr  skew_dm_snr\n",
       "  11   5  mean_profile  std_profile  kurt_profile  skew_profile  mean_dm_snr  std_dm_snr  kurt_dm_snr  skew_dm_snr\n",
       "  12   1  mean_profile  std_profile  kurt_profile  skew_profile  mean_dm_snr  std_dm_snr  kurt_dm_snr  skew_dm_snr\n",
       "  12   2  mean_profile  std_profile  kurt_profile  skew_profile  mean_dm_snr  std_dm_snr  kurt_dm_snr  skew_dm_snr\n",
       "  12   3  mean_profile  std_profile  kurt_profile  skew_profile  mean_dm_snr  std_dm_snr  kurt_dm_snr  skew_dm_snr\n",
       "  12   4  mean_profile  std_profile  kurt_profile  skew_profile  mean_dm_snr  std_dm_snr  kurt_dm_snr  skew_dm_snr\n",
       "  12   5  mean_profile  std_profile  kurt_profile  skew_profile  mean_dm_snr  std_dm_snr  kurt_dm_snr  skew_dm_snr\n",
       "  13   1  mean_profile  std_profile  kurt_profile  skew_profile  mean_dm_snr  std_dm_snr  kurt_dm_snr  skew_dm_snr\n",
       "  13   2  mean_profile  std_profile  kurt_profile  skew_profile  mean_dm_snr  std_dm_snr  kurt_dm_snr  skew_dm_snr\n",
       "  13   3  mean_profile  std_profile  kurt_profile  skew_profile  mean_dm_snr  std_dm_snr  kurt_dm_snr  skew_dm_snr\n",
       "  13   4  mean_profile  std_profile  kurt_profile  skew_profile  mean_dm_snr  std_dm_snr  kurt_dm_snr  skew_dm_snr\n",
       "  13   5  mean_profile  std_profile  kurt_profile  skew_profile  mean_dm_snr  std_dm_snr  kurt_dm_snr  skew_dm_snr\n",
       "  14   1  mean_profile  std_profile  kurt_profile  skew_profile  mean_dm_snr  std_dm_snr  kurt_dm_snr  skew_dm_snr\n",
       "  14   2  mean_profile  std_profile  kurt_profile  skew_profile  mean_dm_snr  std_dm_snr  kurt_dm_snr  skew_dm_snr\n",
       "  14   3  mean_profile  std_profile  kurt_profile  skew_profile  mean_dm_snr  std_dm_snr  kurt_dm_snr  skew_dm_snr\n",
       "  14   4  mean_profile  std_profile  kurt_profile  skew_profile  mean_dm_snr  std_dm_snr  kurt_dm_snr  skew_dm_snr\n",
       "  14   5  mean_profile  std_profile  kurt_profile  skew_profile  mean_dm_snr  std_dm_snr  kurt_dm_snr  skew_dm_snr\n",
       "  15   1  mean_profile  std_profile  kurt_profile  skew_profile  mean_dm_snr  std_dm_snr  kurt_dm_snr  skew_dm_snr\n",
       "  15   2  mean_profile  std_profile  kurt_profile  skew_profile  mean_dm_snr  std_dm_snr  kurt_dm_snr  skew_dm_snr\n",
       "  15   3  mean_profile  std_profile  kurt_profile  skew_profile  mean_dm_snr  std_dm_snr  kurt_dm_snr  skew_dm_snr\n",
       "  15   4  mean_profile  std_profile  kurt_profile  skew_profile  mean_dm_snr  std_dm_snr  kurt_dm_snr  skew_dm_snr\n",
       "  15   5  mean_profile  std_profile  kurt_profile  skew_profile  mean_dm_snr  std_dm_snr  kurt_dm_snr  skew_dm_snr\n",
       "  16   1  mean_profile  std_profile  kurt_profile  skew_profile  mean_dm_snr  std_dm_snr  kurt_dm_snr  skew_dm_snr\n",
       "  16   2  mean_profile  std_profile  kurt_profile  skew_profile  mean_dm_snr  std_dm_snr  kurt_dm_snr  skew_dm_snr\n",
       "  16   3  mean_profile  std_profile  kurt_profile  skew_profile  mean_dm_snr  std_dm_snr  kurt_dm_snr  skew_dm_snr\n",
       "  16   4  mean_profile  std_profile  kurt_profile  skew_profile  mean_dm_snr  std_dm_snr  kurt_dm_snr  skew_dm_snr\n",
       "  16   5  mean_profile  std_profile  kurt_profile  skew_profile  mean_dm_snr  std_dm_snr  kurt_dm_snr  skew_dm_snr\n",
       "  17   1  mean_profile  std_profile  kurt_profile  skew_profile  mean_dm_snr  std_dm_snr  kurt_dm_snr  skew_dm_snr\n",
       "  17   2  mean_profile  std_profile  kurt_profile  skew_profile  mean_dm_snr  std_dm_snr  kurt_dm_snr  skew_dm_snr\n",
       "  17   3  mean_profile  std_profile  kurt_profile  skew_profile  mean_dm_snr  std_dm_snr  kurt_dm_snr  skew_dm_snr\n",
       "  17   4  mean_profile  std_profile  kurt_profile  skew_profile  mean_dm_snr  std_dm_snr  kurt_dm_snr  skew_dm_snr\n",
       "  17   5  mean_profile  std_profile  kurt_profile  skew_profile  mean_dm_snr  std_dm_snr  kurt_dm_snr  skew_dm_snr\n",
       "  18   1  mean_profile  std_profile  kurt_profile  skew_profile  mean_dm_snr  std_dm_snr  kurt_dm_snr  skew_dm_snr\n",
       "  18   2  mean_profile  std_profile  kurt_profile  skew_profile  mean_dm_snr  std_dm_snr  kurt_dm_snr  skew_dm_snr\n",
       "  18   3  mean_profile  std_profile  kurt_profile  skew_profile  mean_dm_snr  std_dm_snr  kurt_dm_snr  skew_dm_snr\n",
       "  18   4  mean_profile  std_profile  kurt_profile  skew_profile  mean_dm_snr  std_dm_snr  kurt_dm_snr  skew_dm_snr\n",
       "  18   5  mean_profile  std_profile  kurt_profile  skew_profile  mean_dm_snr  std_dm_snr  kurt_dm_snr  skew_dm_snr\n",
       "  19   1  mean_profile  std_profile  kurt_profile  skew_profile  mean_dm_snr  std_dm_snr  kurt_dm_snr  skew_dm_snr\n",
       "  19   2  mean_profile  std_profile  kurt_profile  skew_profile  mean_dm_snr  std_dm_snr  kurt_dm_snr  skew_dm_snr\n",
       "  19   3  mean_profile  std_profile  kurt_profile  skew_profile  mean_dm_snr  std_dm_snr  kurt_dm_snr  skew_dm_snr\n",
       "  19   4  mean_profile  std_profile  kurt_profile  skew_profile  mean_dm_snr  std_dm_snr  kurt_dm_snr  skew_dm_snr\n",
       "  19   5  mean_profile  std_profile  kurt_profile  skew_profile  mean_dm_snr  std_dm_snr  kurt_dm_snr  skew_dm_snr\n",
       "  20   1  mean_profile  std_profile  kurt_profile  skew_profile  mean_dm_snr  std_dm_snr  kurt_dm_snr  skew_dm_snr\n",
       "  20   2  mean_profile  std_profile  kurt_profile  skew_profile  mean_dm_snr  std_dm_snr  kurt_dm_snr  skew_dm_snr\n",
       "  20   3  mean_profile  std_profile  kurt_profile  skew_profile  mean_dm_snr  std_dm_snr  kurt_dm_snr  skew_dm_snr\n",
       "  20   4  mean_profile  std_profile  kurt_profile  skew_profile  mean_dm_snr  std_dm_snr  kurt_dm_snr  skew_dm_snr\n",
       "  20   5  mean_profile  std_profile  kurt_profile  skew_profile  mean_dm_snr  std_dm_snr  kurt_dm_snr  skew_dm_snr\n",
       "  21   1  mean_profile  std_profile  kurt_profile  skew_profile  mean_dm_snr  std_dm_snr  kurt_dm_snr  skew_dm_snr\n",
       "  21   2  mean_profile  std_profile  kurt_profile  skew_profile  mean_dm_snr  std_dm_snr  kurt_dm_snr  skew_dm_snr\n",
       "  21   3  mean_profile  std_profile  kurt_profile  skew_profile  mean_dm_snr  std_dm_snr  kurt_dm_snr  skew_dm_snr\n",
       "  21   4  mean_profile  std_profile  kurt_profile  skew_profile  mean_dm_snr  std_dm_snr  kurt_dm_snr  skew_dm_snr\n",
       "  21   5  mean_profile  std_profile  kurt_profile  skew_profile  mean_dm_snr  std_dm_snr  kurt_dm_snr  skew_dm_snr\n",
       "  22   1  mean_profile  std_profile  kurt_profile  skew_profile  mean_dm_snr  std_dm_snr  kurt_dm_snr  skew_dm_snr\n",
       "  22   2  mean_profile  std_profile  kurt_profile  skew_profile  mean_dm_snr  std_dm_snr  kurt_dm_snr  skew_dm_snr\n",
       "  22   3  mean_profile  std_profile  kurt_profile  skew_profile  mean_dm_snr  std_dm_snr  kurt_dm_snr  skew_dm_snr\n",
       "  22   4  mean_profile  std_profile  kurt_profile  skew_profile  mean_dm_snr  std_dm_snr  kurt_dm_snr  skew_dm_snr\n",
       "  22   5  mean_profile  std_profile  kurt_profile  skew_profile  mean_dm_snr  std_dm_snr  kurt_dm_snr  skew_dm_snr\n",
       "  23   1  mean_profile  std_profile  kurt_profile  skew_profile  mean_dm_snr  std_dm_snr  kurt_dm_snr  skew_dm_snr\n",
       "  23   2  mean_profile  std_profile  kurt_profile  skew_profile  mean_dm_snr  std_dm_snr  kurt_dm_snr  skew_dm_snr\n",
       "  23   3  mean_profile  std_profile  kurt_profile  skew_profile  mean_dm_snr  std_dm_snr  kurt_dm_snr  skew_dm_snr\n",
       "  23   4  mean_profile  std_profile  kurt_profile  skew_profile  mean_dm_snr  std_dm_snr  kurt_dm_snr  skew_dm_snr\n",
       "  23   5  mean_profile  std_profile  kurt_profile  skew_profile  mean_dm_snr  std_dm_snr  kurt_dm_snr  skew_dm_snr\n",
       "  24   1  mean_profile  std_profile  kurt_profile  skew_profile  mean_dm_snr  std_dm_snr  kurt_dm_snr  skew_dm_snr\n",
       "  24   2  mean_profile  std_profile  kurt_profile  skew_profile  mean_dm_snr  std_dm_snr  kurt_dm_snr  skew_dm_snr\n",
       "  24   3  mean_profile  std_profile  kurt_profile  skew_profile  mean_dm_snr  std_dm_snr  kurt_dm_snr  skew_dm_snr\n",
       "  24   4  mean_profile  std_profile  kurt_profile  skew_profile  mean_dm_snr  std_dm_snr  kurt_dm_snr  skew_dm_snr\n",
       "  24   5  mean_profile  std_profile  kurt_profile  skew_profile  mean_dm_snr  std_dm_snr  kurt_dm_snr  skew_dm_snr\n",
       "  25   1  mean_profile  std_profile  kurt_profile  skew_profile  mean_dm_snr  std_dm_snr  kurt_dm_snr  skew_dm_snr\n",
       "  25   2  mean_profile  std_profile  kurt_profile  skew_profile  mean_dm_snr  std_dm_snr  kurt_dm_snr  skew_dm_snr\n",
       "  25   3  mean_profile  std_profile  kurt_profile  skew_profile  mean_dm_snr  std_dm_snr  kurt_dm_snr  skew_dm_snr\n",
       "  25   4  mean_profile  std_profile  kurt_profile  skew_profile  mean_dm_snr  std_dm_snr  kurt_dm_snr  skew_dm_snr\n",
       "  25   5  mean_profile  std_profile  kurt_profile  skew_profile  mean_dm_snr  std_dm_snr  kurt_dm_snr  skew_dm_snr\n",
       "  26   1  mean_profile  std_profile  kurt_profile  skew_profile  mean_dm_snr  std_dm_snr  kurt_dm_snr  skew_dm_snr\n",
       "  26   2  mean_profile  std_profile  kurt_profile  skew_profile  mean_dm_snr  std_dm_snr  kurt_dm_snr  skew_dm_snr\n",
       "  26   3  mean_profile  std_profile  kurt_profile  skew_profile  mean_dm_snr  std_dm_snr  kurt_dm_snr  skew_dm_snr\n",
       "  26   4  mean_profile  std_profile  kurt_profile  skew_profile  mean_dm_snr  std_dm_snr  kurt_dm_snr  skew_dm_snr\n",
       "  26   5  mean_profile  std_profile  kurt_profile  skew_profile  mean_dm_snr  std_dm_snr  kurt_dm_snr  skew_dm_snr\n",
       "  27   1  mean_profile  std_profile  kurt_profile  skew_profile  mean_dm_snr  std_dm_snr  kurt_dm_snr  skew_dm_snr\n",
       "  27   2  mean_profile  std_profile  kurt_profile  skew_profile  mean_dm_snr  std_dm_snr  kurt_dm_snr  skew_dm_snr\n",
       "  27   3  mean_profile  std_profile  kurt_profile  skew_profile  mean_dm_snr  std_dm_snr  kurt_dm_snr  skew_dm_snr\n",
       "  27   4  mean_profile  std_profile  kurt_profile  skew_profile  mean_dm_snr  std_dm_snr  kurt_dm_snr  skew_dm_snr\n",
       "  27   5  mean_profile  std_profile  kurt_profile  skew_profile  mean_dm_snr  std_dm_snr  kurt_dm_snr  skew_dm_snr\n",
       "  28   1  mean_profile  std_profile  kurt_profile  skew_profile  mean_dm_snr  std_dm_snr  kurt_dm_snr  skew_dm_snr\n",
       "  28   2  mean_profile  std_profile  kurt_profile  skew_profile  mean_dm_snr  std_dm_snr  kurt_dm_snr  skew_dm_snr\n",
       "  28   3  mean_profile  std_profile  kurt_profile  skew_profile  mean_dm_snr  std_dm_snr  kurt_dm_snr  skew_dm_snr\n",
       "  28   4  mean_profile  std_profile  kurt_profile  skew_profile  mean_dm_snr  std_dm_snr  kurt_dm_snr  skew_dm_snr\n",
       "  28   5  mean_profile  std_profile  kurt_profile  skew_profile  mean_dm_snr  std_dm_snr  kurt_dm_snr  skew_dm_snr\n",
       "  29   1  mean_profile  std_profile  kurt_profile  skew_profile  mean_dm_snr  std_dm_snr  kurt_dm_snr  skew_dm_snr\n",
       "  29   2  mean_profile  std_profile  kurt_profile  skew_profile  mean_dm_snr  std_dm_snr  kurt_dm_snr  skew_dm_snr\n",
       "  29   3  mean_profile  std_profile  kurt_profile  skew_profile  mean_dm_snr  std_dm_snr  kurt_dm_snr  skew_dm_snr\n",
       "  29   4  mean_profile  std_profile  kurt_profile  skew_profile  mean_dm_snr  std_dm_snr  kurt_dm_snr  skew_dm_snr\n",
       "  29   5  mean_profile  std_profile  kurt_profile  skew_profile  mean_dm_snr  std_dm_snr  kurt_dm_snr  skew_dm_snr\n",
       "  30   1  mean_profile  std_profile  kurt_profile  skew_profile  mean_dm_snr  std_dm_snr  kurt_dm_snr  skew_dm_snr\n",
       "  30   2  mean_profile  std_profile  kurt_profile  skew_profile  mean_dm_snr  std_dm_snr  kurt_dm_snr  skew_dm_snr\n",
       "  30   3  mean_profile  std_profile  kurt_profile  skew_profile  mean_dm_snr  std_dm_snr  kurt_dm_snr  skew_dm_snr\n",
       "  30   4  mean_profile  std_profile  kurt_profile  skew_profile  mean_dm_snr  std_dm_snr  kurt_dm_snr  skew_dm_snr\n",
       "  30   5  mean_profile  std_profile  kurt_profile  skew_profile  mean_dm_snr  std_dm_snr  kurt_dm_snr  skew_dm_snr\n",
       "  31   1  mean_profile  std_profile  kurt_profile  skew_profile  mean_dm_snr  std_dm_snr  kurt_dm_snr  skew_dm_snr\n",
       "  31   2  mean_profile  std_profile  kurt_profile  skew_profile  mean_dm_snr  std_dm_snr  kurt_dm_snr  skew_dm_snr\n",
       "  31   3  mean_profile  std_profile  kurt_profile  skew_profile  mean_dm_snr  std_dm_snr  kurt_dm_snr  skew_dm_snr\n",
       "  31   4  mean_profile  std_profile  kurt_profile  skew_profile  mean_dm_snr  std_dm_snr  kurt_dm_snr  skew_dm_snr\n",
       "  31   5  mean_profile  std_profile  kurt_profile  skew_profile  mean_dm_snr  std_dm_snr  kurt_dm_snr  skew_dm_snr\n",
       "  32   1  mean_profile  std_profile  kurt_profile  skew_profile  mean_dm_snr  std_dm_snr  kurt_dm_snr  skew_dm_snr\n",
       "  32   2  mean_profile  std_profile  kurt_profile  skew_profile  mean_dm_snr  std_dm_snr  kurt_dm_snr  skew_dm_snr\n",
       "  32   3  mean_profile  std_profile  kurt_profile  skew_profile  mean_dm_snr  std_dm_snr  kurt_dm_snr  skew_dm_snr\n",
       "  32   4  mean_profile  std_profile  kurt_profile  skew_profile  mean_dm_snr  std_dm_snr  kurt_dm_snr  skew_dm_snr\n",
       "  32   5  mean_profile  std_profile  kurt_profile  skew_profile  mean_dm_snr  std_dm_snr  kurt_dm_snr  skew_dm_snr\n",
       "  33   1  mean_profile  std_profile  kurt_profile  skew_profile  mean_dm_snr  std_dm_snr  kurt_dm_snr  skew_dm_snr\n",
       "  33   2  mean_profile  std_profile  kurt_profile  skew_profile  mean_dm_snr  std_dm_snr  kurt_dm_snr  skew_dm_snr\n",
       "  33   3  mean_profile  std_profile  kurt_profile  skew_profile  mean_dm_snr  std_dm_snr  kurt_dm_snr  skew_dm_snr\n",
       "  33   4  mean_profile  std_profile  kurt_profile  skew_profile  mean_dm_snr  std_dm_snr  kurt_dm_snr  skew_dm_snr\n",
       "  33   5  mean_profile  std_profile  kurt_profile  skew_profile  mean_dm_snr  std_dm_snr  kurt_dm_snr  skew_dm_snr\n",
       "  34   1  mean_profile  std_profile  kurt_profile  skew_profile  mean_dm_snr  std_dm_snr  kurt_dm_snr  skew_dm_snr\n",
       "  34   2  mean_profile  std_profile  kurt_profile  skew_profile  mean_dm_snr  std_dm_snr  kurt_dm_snr  skew_dm_snr\n",
       "  34   3  mean_profile  std_profile  kurt_profile  skew_profile  mean_dm_snr  std_dm_snr  kurt_dm_snr  skew_dm_snr\n",
       "  34   4  mean_profile  std_profile  kurt_profile  skew_profile  mean_dm_snr  std_dm_snr  kurt_dm_snr  skew_dm_snr\n",
       "  34   5  mean_profile  std_profile  kurt_profile  skew_profile  mean_dm_snr  std_dm_snr  kurt_dm_snr  skew_dm_snr\n",
       "  35   1  mean_profile  std_profile  kurt_profile  skew_profile  mean_dm_snr  std_dm_snr  kurt_dm_snr  skew_dm_snr\n",
       "  35   2  mean_profile  std_profile  kurt_profile  skew_profile  mean_dm_snr  std_dm_snr  kurt_dm_snr  skew_dm_snr\n",
       "  35   3  mean_profile  std_profile  kurt_profile  skew_profile  mean_dm_snr  std_dm_snr  kurt_dm_snr  skew_dm_snr\n",
       "  35   4  mean_profile  std_profile  kurt_profile  skew_profile  mean_dm_snr  std_dm_snr  kurt_dm_snr  skew_dm_snr\n",
       "  35   5  mean_profile  std_profile  kurt_profile  skew_profile  mean_dm_snr  std_dm_snr  kurt_dm_snr  skew_dm_snr\n",
       "  36   1  mean_profile  std_profile  kurt_profile  skew_profile  mean_dm_snr  std_dm_snr  kurt_dm_snr  skew_dm_snr\n",
       "  36   2  mean_profile  std_profile  kurt_profile  skew_profile  mean_dm_snr  std_dm_snr  kurt_dm_snr  skew_dm_snr\n",
       "  36   3  mean_profile  std_profile  kurt_profile  skew_profile  mean_dm_snr  std_dm_snr  kurt_dm_snr  skew_dm_snr\n",
       "  36   4  mean_profile  std_profile  kurt_profile  skew_profile  mean_dm_snr  std_dm_snr  kurt_dm_snr  skew_dm_snr\n",
       "  36   5  mean_profile  std_profile  kurt_profile  skew_profile  mean_dm_snr  std_dm_snr  kurt_dm_snr  skew_dm_snr\n",
       "  37   1  mean_profile  std_profile  kurt_profile  skew_profile  mean_dm_snr  std_dm_snr  kurt_dm_snr  skew_dm_snr\n",
       "  37   2  mean_profile  std_profile  kurt_profile  skew_profile  mean_dm_snr  std_dm_snr  kurt_dm_snr  skew_dm_snr\n",
       "  37   3  mean_profile  std_profile  kurt_profile  skew_profile  mean_dm_snr  std_dm_snr  kurt_dm_snr  skew_dm_snr\n",
       "  37   4  mean_profile  std_profile  kurt_profile  skew_profile  mean_dm_snr  std_dm_snr  kurt_dm_snr  skew_dm_snr\n",
       "  37   5  mean_profile  std_profile  kurt_profile  skew_profile  mean_dm_snr  std_dm_snr  kurt_dm_snr  skew_dm_snr\n",
       "  38   1  mean_profile  std_profile  kurt_profile  skew_profile  mean_dm_snr  std_dm_snr  kurt_dm_snr  skew_dm_snr\n",
       "  38   2  mean_profile  std_profile  kurt_profile  skew_profile  mean_dm_snr  std_dm_snr  kurt_dm_snr  skew_dm_snr\n",
       "  38   3  mean_profile  std_profile  kurt_profile  skew_profile  mean_dm_snr  std_dm_snr  kurt_dm_snr  skew_dm_snr\n",
       "  38   4  mean_profile  std_profile  kurt_profile  skew_profile  mean_dm_snr  std_dm_snr  kurt_dm_snr  skew_dm_snr\n",
       "  38   5  mean_profile  std_profile  kurt_profile  skew_profile  mean_dm_snr  std_dm_snr  kurt_dm_snr  skew_dm_snr\n",
       "  39   1  mean_profile  std_profile  kurt_profile  skew_profile  mean_dm_snr  std_dm_snr  kurt_dm_snr  skew_dm_snr\n",
       "  39   2  mean_profile  std_profile  kurt_profile  skew_profile  mean_dm_snr  std_dm_snr  kurt_dm_snr  skew_dm_snr\n",
       "  39   3  mean_profile  std_profile  kurt_profile  skew_profile  mean_dm_snr  std_dm_snr  kurt_dm_snr  skew_dm_snr\n",
       "  39   4  mean_profile  std_profile  kurt_profile  skew_profile  mean_dm_snr  std_dm_snr  kurt_dm_snr  skew_dm_snr\n",
       "  39   5  mean_profile  std_profile  kurt_profile  skew_profile  mean_dm_snr  std_dm_snr  kurt_dm_snr  skew_dm_snr\n",
       "  40   1  mean_profile  std_profile  kurt_profile  skew_profile  mean_dm_snr  std_dm_snr  kurt_dm_snr  skew_dm_snr\n",
       "  40   2  mean_profile  std_profile  kurt_profile  skew_profile  mean_dm_snr  std_dm_snr  kurt_dm_snr  skew_dm_snr\n",
       "  40   3  mean_profile  std_profile  kurt_profile  skew_profile  mean_dm_snr  std_dm_snr  kurt_dm_snr  skew_dm_snr\n",
       "  40   4  mean_profile  std_profile  kurt_profile  skew_profile  mean_dm_snr  std_dm_snr  kurt_dm_snr  skew_dm_snr\n",
       "  40   5  mean_profile  std_profile  kurt_profile  skew_profile  mean_dm_snr  std_dm_snr  kurt_dm_snr  skew_dm_snr\n",
       "  41   1  mean_profile  std_profile  kurt_profile  skew_profile  mean_dm_snr  std_dm_snr  kurt_dm_snr  skew_dm_snr\n",
       "  41   2  mean_profile  std_profile  kurt_profile  skew_profile  mean_dm_snr  std_dm_snr  kurt_dm_snr  skew_dm_snr\n",
       "  41   3  mean_profile  std_profile  kurt_profile  skew_profile  mean_dm_snr  std_dm_snr  kurt_dm_snr  skew_dm_snr\n",
       "  41   4  mean_profile  std_profile  kurt_profile  skew_profile  mean_dm_snr  std_dm_snr  kurt_dm_snr  skew_dm_snr\n",
       "  41   5  mean_profile  std_profile  kurt_profile  skew_profile  mean_dm_snr  std_dm_snr  kurt_dm_snr  skew_dm_snr\n",
       "  42   1  mean_profile  std_profile  kurt_profile  skew_profile  mean_dm_snr  std_dm_snr  kurt_dm_snr  skew_dm_snr\n",
       "  42   2  mean_profile  std_profile  kurt_profile  skew_profile  mean_dm_snr  std_dm_snr  kurt_dm_snr  skew_dm_snr\n",
       "  42   3  mean_profile  std_profile  kurt_profile  skew_profile  mean_dm_snr  std_dm_snr  kurt_dm_snr  skew_dm_snr\n",
       "  42   4  mean_profile  std_profile  kurt_profile  skew_profile  mean_dm_snr  std_dm_snr  kurt_dm_snr  skew_dm_snr\n",
       "  42   5  mean_profile  std_profile  kurt_profile  skew_profile  mean_dm_snr  std_dm_snr  kurt_dm_snr  skew_dm_snr\n",
       "  43   1  mean_profile  std_profile  kurt_profile  skew_profile  mean_dm_snr  std_dm_snr  kurt_dm_snr  skew_dm_snr\n",
       "  43   2  mean_profile  std_profile  kurt_profile  skew_profile  mean_dm_snr  std_dm_snr  kurt_dm_snr  skew_dm_snr\n",
       "  43   3  mean_profile  std_profile  kurt_profile  skew_profile  mean_dm_snr  std_dm_snr  kurt_dm_snr  skew_dm_snr\n",
       "  43   4  mean_profile  std_profile  kurt_profile  skew_profile  mean_dm_snr  std_dm_snr  kurt_dm_snr  skew_dm_snr\n",
       "  43   5  mean_profile  std_profile  kurt_profile  skew_profile  mean_dm_snr  std_dm_snr  kurt_dm_snr  skew_dm_snr\n",
       "  44   1  mean_profile  std_profile  kurt_profile  skew_profile  mean_dm_snr  std_dm_snr  kurt_dm_snr  skew_dm_snr\n",
       "  44   2  mean_profile  std_profile  kurt_profile  skew_profile  mean_dm_snr  std_dm_snr  kurt_dm_snr  skew_dm_snr\n",
       "  44   3  mean_profile  std_profile  kurt_profile  skew_profile  mean_dm_snr  std_dm_snr  kurt_dm_snr  skew_dm_snr\n",
       "  44   4  mean_profile  std_profile  kurt_profile  skew_profile  mean_dm_snr  std_dm_snr  kurt_dm_snr  skew_dm_snr\n",
       "  44   5  mean_profile  std_profile  kurt_profile  skew_profile  mean_dm_snr  std_dm_snr  kurt_dm_snr  skew_dm_snr\n",
       "  45   1  mean_profile  std_profile  kurt_profile  skew_profile  mean_dm_snr  std_dm_snr  kurt_dm_snr  skew_dm_snr\n",
       "  45   2  mean_profile  std_profile  kurt_profile  skew_profile  mean_dm_snr  std_dm_snr  kurt_dm_snr  skew_dm_snr\n",
       "  45   3  mean_profile  std_profile  kurt_profile  skew_profile  mean_dm_snr  std_dm_snr  kurt_dm_snr  skew_dm_snr\n",
       "  45   4  mean_profile  std_profile  kurt_profile  skew_profile  mean_dm_snr  std_dm_snr  kurt_dm_snr  skew_dm_snr\n",
       "  45   5  mean_profile  std_profile  kurt_profile  skew_profile  mean_dm_snr  std_dm_snr  kurt_dm_snr  skew_dm_snr\n",
       "  46   1  mean_profile  std_profile  kurt_profile  skew_profile  mean_dm_snr  std_dm_snr  kurt_dm_snr  skew_dm_snr\n",
       "  46   2  mean_profile  std_profile  kurt_profile  skew_profile  mean_dm_snr  std_dm_snr  kurt_dm_snr  skew_dm_snr\n",
       "  46   3  mean_profile  std_profile  kurt_profile  skew_profile  mean_dm_snr  std_dm_snr  kurt_dm_snr  skew_dm_snr\n",
       "  46   4  mean_profile  std_profile  kurt_profile  skew_profile  mean_dm_snr  std_dm_snr  kurt_dm_snr  skew_dm_snr\n",
       "  46   5  mean_profile  std_profile  kurt_profile  skew_profile  mean_dm_snr  std_dm_snr  kurt_dm_snr  skew_dm_snr\n",
       "  47   1  mean_profile  std_profile  kurt_profile  skew_profile  mean_dm_snr  std_dm_snr  kurt_dm_snr  skew_dm_snr\n",
       "  47   2  mean_profile  std_profile  kurt_profile  skew_profile  mean_dm_snr  std_dm_snr  kurt_dm_snr  skew_dm_snr\n",
       "  47   3  mean_profile  std_profile  kurt_profile  skew_profile  mean_dm_snr  std_dm_snr  kurt_dm_snr  skew_dm_snr\n",
       "  47   4  mean_profile  std_profile  kurt_profile  skew_profile  mean_dm_snr  std_dm_snr  kurt_dm_snr  skew_dm_snr\n",
       "  47   5  mean_profile  std_profile  kurt_profile  skew_profile  mean_dm_snr  std_dm_snr  kurt_dm_snr  skew_dm_snr\n",
       "  48   1  mean_profile  std_profile  kurt_profile  skew_profile  mean_dm_snr  std_dm_snr  kurt_dm_snr  skew_dm_snr\n",
       "  48   2  mean_profile  std_profile  kurt_profile  skew_profile  mean_dm_snr  std_dm_snr  kurt_dm_snr  skew_dm_snr\n",
       "  48   3  mean_profile  std_profile  kurt_profile  skew_profile  mean_dm_snr  std_dm_snr  kurt_dm_snr  skew_dm_snr\n",
       "  48   4  mean_profile  std_profile  kurt_profile  skew_profile  mean_dm_snr  std_dm_snr  kurt_dm_snr  skew_dm_snr\n",
       "  48   5  mean_profile  std_profile  kurt_profile  skew_profile  mean_dm_snr  std_dm_snr  kurt_dm_snr  skew_dm_snr\n",
       "  49   1  mean_profile  std_profile  kurt_profile  skew_profile  mean_dm_snr  std_dm_snr  kurt_dm_snr  skew_dm_snr\n",
       "  49   2  mean_profile  std_profile  kurt_profile  skew_profile  mean_dm_snr  std_dm_snr  kurt_dm_snr  skew_dm_snr\n",
       "  49   3  mean_profile  std_profile  kurt_profile  skew_profile  mean_dm_snr  std_dm_snr  kurt_dm_snr  skew_dm_snr\n",
       "  49   4  mean_profile  std_profile  kurt_profile  skew_profile  mean_dm_snr  std_dm_snr  kurt_dm_snr  skew_dm_snr\n",
       "  49   5  mean_profile  std_profile  kurt_profile  skew_profile  mean_dm_snr  std_dm_snr  kurt_dm_snr  skew_dm_snr\n",
       "  50   1  mean_profile  std_profile  kurt_profile  skew_profile  mean_dm_snr  std_dm_snr  kurt_dm_snr  skew_dm_snr\n",
       "  50   2  mean_profile  std_profile  kurt_profile  skew_profile  mean_dm_snr  std_dm_snr  kurt_dm_snr  skew_dm_snr\n",
       "  50   3  mean_profile  std_profile  kurt_profile  skew_profile  mean_dm_snr  std_dm_snr  kurt_dm_snr  skew_dm_snr\n",
       "  50   4  mean_profile  std_profile  kurt_profile  skew_profile  mean_dm_snr  std_dm_snr  kurt_dm_snr  skew_dm_snr\n",
       "  50   5  mean_profile  std_profile  kurt_profile  skew_profile  mean_dm_snr  std_dm_snr  kurt_dm_snr  skew_dm_snr\n"
      ]
     },
     "metadata": {},
     "output_type": "display_data"
    }
   ],
   "source": [
    "%%R -i missing_df -i NUMBER_IMPUTATIONS\n",
    "# Impute using MICE\n",
    "imputed_object <- mice(missing_df, m=NUMBER_IMPUTATIONS, maxit=50, meth='pmm', seed=500)"
   ]
  },
  {
   "cell_type": "code",
   "execution_count": 30,
   "metadata": {
    "collapsed": true
   },
   "outputs": [],
   "source": [
    "%%R -o r_datasets\n",
    "# Export MICE's output to Python\n",
    "r_datasets = lapply(1:NUMBER_IMPUTATIONS, function(v) return(complete(imputed_object, v)))"
   ]
  },
  {
   "cell_type": "code",
   "execution_count": 31,
   "metadata": {
    "collapsed": true
   },
   "outputs": [],
   "source": [
    "mice_imputed_data_df = list(converter.ri2py(df) for df in r_datasets)"
   ]
  },
  {
   "cell_type": "code",
   "execution_count": 91,
   "metadata": {
    "collapsed": true
   },
   "outputs": [],
   "source": [
    "pu.dump(mice_imputed_data_df, \"mice_imputed_data_df.pkl.gz\")"
   ]
  },
  {
   "cell_type": "code",
   "execution_count": 160,
   "metadata": {},
   "outputs": [
    {
     "data": {
      "text/plain": [
       "1.1217983156562152"
      ]
     },
     "execution_count": 160,
     "metadata": {},
     "output_type": "execute_result"
    }
   ],
   "source": [
    "rmse_sum(np.isnan(missing_df.values), original_df.values, list(d.values for d in mice_imputed_data_df))"
   ]
  },
  {
   "cell_type": "markdown",
   "metadata": {},
   "source": [
    "# Impute using MissForest"
   ]
  },
  {
   "cell_type": "code",
   "execution_count": 34,
   "metadata": {},
   "outputs": [
    {
     "data": {
      "text/plain": [
       "  missForest iteration 1 in progress...done!\n",
       "  missForest iteration 2 in progress...done!\n",
       "  missForest iteration 3 in progress...done!\n",
       "  missForest iteration 4 in progress...done!\n",
       "  missForest iteration 5 in progress...done!\n",
       "  missForest iteration 6 in progress...done!\n",
       "  missForest iteration 7 in progress...done!\n"
      ]
     },
     "metadata": {},
     "output_type": "display_data"
    }
   ],
   "source": [
    "%%R -o mf_imp\n",
    "mf_imp <- missForest(missing_df, parallelize='variables')$ximp"
   ]
  },
  {
   "cell_type": "code",
   "execution_count": 161,
   "metadata": {},
   "outputs": [
    {
     "data": {
      "text/plain": [
       "0.44275588795566695"
      ]
     },
     "execution_count": 161,
     "metadata": {},
     "output_type": "execute_result"
    }
   ],
   "source": [
    "pu.dump([mf_imp], \"miss_forest_imputed_data_df.pkl.gz\")\n",
    "#mf_imp = pu.load('miss_forest_imputed_data_df.pkl.gz')[0]\n",
    "rmse_sum(np.isnan(missing_df.values), original_df.values, [mf_imp.values]*5)"
   ]
  },
  {
   "cell_type": "markdown",
   "metadata": {},
   "source": [
    "# Neural Network models"
   ]
  },
  {
   "cell_type": "code",
   "execution_count": 81,
   "metadata": {
    "collapsed": true
   },
   "outputs": [],
   "source": [
    "pu.dump((np.isnan(missing_df.values), original_df.values), \"dataset.pkl.gz\")"
   ]
  },
  {
   "cell_type": "code",
   "execution_count": 79,
   "metadata": {
    "collapsed": true
   },
   "outputs": [],
   "source": [
    "nn_imputed_data = pu.load(\"autoencoder_iterate_mcmc.pkl.gz\")\n",
    "_df = pd.DataFrame(dict(zip(original_df.columns, (nn_imputed_data[0][:,i] for i in range(nn_imputed_data[0].shape[1])))))\n",
    "#_df[list(original_df.columns)]"
   ]
  },
  {
   "cell_type": "code",
   "execution_count": 143,
   "metadata": {},
   "outputs": [
    {
     "data": {
      "text/plain": [
       "(array([ 1.15763009,  1.33865881, -0.67551243, -0.40109685, -0.31750214,\n",
       "        -0.37285098, -0.08352529, -0.29369053], dtype=float32),\n",
       " array([ 1.15763003,  1.33865881, -0.67551246, -0.40109685, -0.31750215,\n",
       "        -0.37285098, -0.0835253 , -0.29369053]))"
      ]
     },
     "execution_count": 143,
     "metadata": {},
     "output_type": "execute_result"
    }
   ],
   "source": [
    "d = least_squares_dataset(list(d.values for d in mice_imputed_data_df))\n",
    "nn_imputed_data[0][0,:], d[0,:]"
   ]
  },
  {
   "cell_type": "code",
   "execution_count": 163,
   "metadata": {},
   "outputs": [
    {
     "data": {
      "text/plain": [
       "3.9913386619700288"
      ]
     },
     "execution_count": 163,
     "metadata": {},
     "output_type": "execute_result"
    }
   ],
   "source": [
    "nn_imputed_data = pu.load(\"vae_iterate_mcmc.pkl.gz\")\n",
    "rmse_sum(np.isnan(missing_df.values), original_df.values, nn_imputed_data)"
   ]
  },
  {
   "cell_type": "markdown",
   "metadata": {},
   "source": [
    "# GP-LVM"
   ]
  },
  {
   "cell_type": "code",
   "execution_count": null,
   "metadata": {},
   "outputs": [],
   "source": [
    "import GPflow\n",
    "from GPflow import ekernels\n",
    "from GPflow import kernels\n",
    "\n",
    "ignored_df = missing_df.dropna()\n",
    "n_latent_dims = 5\n",
    "n_inducing_points = 100\n",
    "n_training_points = len(ignored_df)\n",
    "X_mean = GPflow.gplvm.PCA_reduce(ignored_df.values, n_latent_dims)\n",
    "X_var = 0.1*np.ones((n_training_points, n_latent_dims))\n",
    "Z = np.random.permutation(X_mean.copy())[:n_inducing_points]\n",
    "\n",
    "k = ekernels.RBF(n_latent_dims, ARD=True)\n",
    "m = GPflow.gplvm.BayesianGPLVM(X_mean=X_mean, X_var=X_var, Y=ignored_df.values,\n",
    "                                kern=k, M=n_inducing_points, Z=Z)\n",
    "m.likelihood.variance = 0.01\n",
    "m.optimize(disp=True, maxiter=100)\n"
   ]
  },
  {
   "cell_type": "code",
   "execution_count": 172,
   "metadata": {},
   "outputs": [
    {
     "data": {
      "text/plain": [
       "<GPy.inference.latent_function_inference.posterior.Posterior at 0x7ff07af8b630>"
      ]
     },
     "execution_count": 172,
     "metadata": {},
     "output_type": "execute_result"
    }
   ],
   "source": [
    "lvm.posterior"
   ]
  }
 ],
 "metadata": {
  "kernelspec": {
   "display_name": "Python 3",
   "language": "python",
   "name": "python3"
  },
  "language_info": {
   "codemirror_mode": {
    "name": "ipython",
    "version": 3
   },
   "file_extension": ".py",
   "mimetype": "text/x-python",
   "name": "python",
   "nbconvert_exporter": "python",
   "pygments_lexer": "ipython3",
   "version": "3.5.2"
  }
 },
 "nbformat": 4,
 "nbformat_minor": 2
}
